{
  "nbformat": 4,
  "nbformat_minor": 0,
  "metadata": {
    "colab": {
      "provenance": [],
      "include_colab_link": true
    },
    "kernelspec": {
      "name": "python3",
      "display_name": "Python 3"
    },
    "language_info": {
      "name": "python"
    },
    "accelerator": "GPU",
    "gpuClass": "standard"
  },
  "cells": [
    {
      "cell_type": "markdown",
      "metadata": {
        "id": "view-in-github",
        "colab_type": "text"
      },
      "source": [
        "<a href=\"https://colab.research.google.com/github/kd0176/Covid-19-Tweet-Sentiment-Analysis/blob/main/Covid_19_Tweet_Sentiment_Analysis.ipynb\" target=\"_parent\"><img src=\"https://colab.research.google.com/assets/colab-badge.svg\" alt=\"Open In Colab\"/></a>"
      ]
    },
    {
      "cell_type": "markdown",
      "source": [
        "# **Project Name :**   **Covid-19 Tweet Sentiment Analysis**\n"
      ],
      "metadata": {
        "id": "vncDsAP0Gaoa"
      }
    },
    {
      "cell_type": "markdown",
      "source": [
        "![ImageForNews_717641_16560583327231099 (1).webp](data:image/webp;base64,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)"
      ],
      "metadata": {
        "id": "dzv0gVSR8FLA"
      }
    },
    {
      "cell_type": "markdown",
      "source": [
        "##### **Project Type**    - Classification\n",
        "##### **Contribution**    - Individual/Team\n",
        "##### **Team Member 1 -**\n",
        "##### **Team Member 2 -**\n",
        "##### **Team Member 3 -**\n",
        "##### **Team Member 4 -**"
      ],
      "metadata": {
        "id": "beRrZCGUAJYm"
      }
    },
    {
      "cell_type": "markdown",
      "source": [
        "# **Project Summary -**"
      ],
      "metadata": {
        "id": "FJNUwmbgGyua"
      }
    },
    {
      "cell_type": "markdown",
      "source": [
        "####This Project is for sentiment analysis of Tweets related to the Covid-19 pandemic, which is a multi-label classification task. Since the outbreak of coronavirus, it has affected more than 180 countries where massive losses in the economy and jobs globally and confining about 58% of the global population are caused. The research on people’s feelings is essential for keeping mental health and informed about Covid-19."
      ],
      "metadata": {
        "id": "F6v_1wHtG2nS"
      }
    },
    {
      "cell_type": "markdown",
      "source": [
        "# **GitHub Link -**"
      ],
      "metadata": {
        "id": "w6K7xa23Elo4"
      }
    },
    {
      "cell_type": "markdown",
      "source": [
        "Provide your GitHub Link here."
      ],
      "metadata": {
        "id": "h1o69JH3Eqqn"
      }
    },
    {
      "cell_type": "markdown",
      "source": [
        "# **Problem Statement**\n"
      ],
      "metadata": {
        "id": "yQaldy8SH6Dl"
      }
    },
    {
      "cell_type": "markdown",
      "source": [
        "#### This challenge asks you to build a classification ML model to predict the sentiment of covid-19 tweets. The tweets have been pulled from Twitter and manual tagging has been done then. the names and usernames have been given codes to avoid any privacy concerns."
      ],
      "metadata": {
        "id": "DpeJGUA3kjGy"
      }
    },
    {
      "cell_type": "markdown",
      "source": [
        "## Dataset Description\n",
        "![Classification_Coronavirus_Tweet_Sentiment_Analysis_403444d088.png](data:image/png;base64,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)"
      ],
      "metadata": {
        "id": "mNxZwknmI-2i"
      }
    },
    {
      "cell_type": "markdown",
      "source": [
        "# **General Guidelines** : -  "
      ],
      "metadata": {
        "id": "mDgbUHAGgjLW"
      }
    },
    {
      "cell_type": "markdown",
      "source": [
        "1.   Well-structured, formatted, and commented code is required. \n",
        "2.   Exception Handling, Production Grade Code & Deployment Ready Code will be a plus. Those students will be awarded some additional credits. \n",
        "     \n",
        "     The additional credits will have advantages over other students during Star Student selection.\n",
        "       \n",
        "             [ Note: - Deployment Ready Code is defined as, the whole .ipynb notebook should be executable in one go\n",
        "                       without a single error logged. ]\n",
        "\n",
        "3.   Each and every logic should have proper comments.\n",
        "4. You may add as many number of charts you want. Make Sure for each and every chart the following format should be answered.\n",
        "        \n",
        "\n",
        "```\n",
        "# Chart visualization code\n",
        "```\n",
        "            \n",
        "\n",
        "*   Why did you pick the specific chart?\n",
        "*   What is/are the insight(s) found from the chart?\n",
        "* Will the gained insights help creating a positive business impact? \n",
        "Are there any insights that lead to negative growth? Justify with specific reason.\n",
        "\n",
        "5. You have to create at least 15 logical & meaningful charts having important insights.\n",
        "\n",
        "\n",
        "[ Hints : - Do the Vizualization in  a structured way while following \"UBM\" Rule. \n",
        "\n",
        "U - Univariate Analysis,\n",
        "\n",
        "B - Bivariate Analysis (Numerical - Categorical, Numerical - Numerical, Categorical - Categorical)\n",
        "\n",
        "M - Multivariate Analysis\n",
        " ]\n",
        "\n",
        "\n",
        "\n",
        "\n",
        "\n",
        "6. You may add more ml algorithms for model creation. Make sure for each and every algorithm, the following format should be answered.\n",
        "\n",
        "\n",
        "*   Explain the ML Model used and it's performance using Evaluation metric Score Chart.\n",
        "\n",
        "\n",
        "*   Cross- Validation & Hyperparameter Tuning\n",
        "\n",
        "*   Have you seen any improvement? Note down the improvement with updates Evaluation metric Score Chart.\n",
        "\n",
        "*   Explain each evaluation metric's indication towards business and the business impact pf the ML model used.\n",
        "\n",
        "\n",
        "\n",
        "\n",
        "\n",
        "\n",
        "\n",
        "\n",
        "\n",
        "\n",
        "\n",
        "\n",
        "\n",
        "\n",
        "\n",
        "\n",
        "\n",
        "\n"
      ],
      "metadata": {
        "id": "ZrxVaUj-hHfC"
      }
    },
    {
      "cell_type": "markdown",
      "source": [
        "# ***Let's Begin !***"
      ],
      "metadata": {
        "id": "O_i_v8NEhb9l"
      }
    },
    {
      "cell_type": "markdown",
      "source": [
        "## ***1. Know Your Data***"
      ],
      "metadata": {
        "id": "HhfV-JJviCcP"
      }
    },
    {
      "cell_type": "markdown",
      "source": [
        "### Import Libraries"
      ],
      "metadata": {
        "id": "Y3lxredqlCYt"
      }
    },
    {
      "cell_type": "code",
      "source": [
        "# Import Libraries\n",
        "import numpy as np                                   # numerical computations\n",
        "import pandas as pd                                  # data analyze\n",
        "\n",
        "import seaborn as sns                                # data visualization\n",
        "import matplotlib.pyplot as plt\n",
        "%matplotlib inline\n",
        "\n",
        "import warnings                                      # Ignore warnings\n",
        "warnings.filterwarnings(\"ignore\")"
      ],
      "metadata": {
        "id": "M8Vqi-pPk-HR"
      },
      "execution_count": 1,
      "outputs": []
    },
    {
      "cell_type": "markdown",
      "source": [
        "### Dataset Loading"
      ],
      "metadata": {
        "id": "3RnN4peoiCZX"
      }
    },
    {
      "cell_type": "code",
      "source": [
        "# Load Dataset\n",
        "url='https://drive.google.com/file/d/1Z_35uIfRSiDleNUslnr9W9ImFMRNg-tm/view?usp=share_link'\n",
        "url='https://drive.google.com/uc?id=' + url.split('/')[-2]\n",
        "df = pd.read_csv(url, encoding='latin-1')"
      ],
      "metadata": {
        "id": "4CkvbW_SlZ_R"
      },
      "execution_count": 3,
      "outputs": []
    },
    {
      "cell_type": "markdown",
      "source": [
        "### Dataset First View"
      ],
      "metadata": {
        "id": "x71ZqKXriCWQ"
      }
    },
    {
      "cell_type": "code",
      "source": [
        "# Dataset First Look\n",
        "df.head()"
      ],
      "metadata": {
        "id": "LWNFOSvLl09H",
        "colab": {
          "base_uri": "https://localhost:8080/",
          "height": 206
        },
        "outputId": "4e962cdb-bf83-4080-ca37-2ad0f2aed38a"
      },
      "execution_count": 4,
      "outputs": [
        {
          "output_type": "execute_result",
          "data": {
            "text/plain": [
              "   UserName  ScreenName   Location     TweetAt  \\\n",
              "0      3799       48751     London  16-03-2020   \n",
              "1      3800       48752         UK  16-03-2020   \n",
              "2      3801       48753  Vagabonds  16-03-2020   \n",
              "3      3802       48754        NaN  16-03-2020   \n",
              "4      3803       48755        NaN  16-03-2020   \n",
              "\n",
              "                                       OriginalTweet           Sentiment  \n",
              "0  @MeNyrbie @Phil_Gahan @Chrisitv https://t.co/i...             Neutral  \n",
              "1  advice Talk to your neighbours family to excha...            Positive  \n",
              "2  Coronavirus Australia: Woolworths to give elde...            Positive  \n",
              "3  My food stock is not the only one which is emp...            Positive  \n",
              "4  Me, ready to go at supermarket during the #COV...  Extremely Negative  "
            ],
            "text/html": [
              "\n",
              "  <div id=\"df-1d5b739a-d38c-43d1-aeb8-1acb3dd3c5f5\">\n",
              "    <div class=\"colab-df-container\">\n",
              "      <div>\n",
              "<style scoped>\n",
              "    .dataframe tbody tr th:only-of-type {\n",
              "        vertical-align: middle;\n",
              "    }\n",
              "\n",
              "    .dataframe tbody tr th {\n",
              "        vertical-align: top;\n",
              "    }\n",
              "\n",
              "    .dataframe thead th {\n",
              "        text-align: right;\n",
              "    }\n",
              "</style>\n",
              "<table border=\"1\" class=\"dataframe\">\n",
              "  <thead>\n",
              "    <tr style=\"text-align: right;\">\n",
              "      <th></th>\n",
              "      <th>UserName</th>\n",
              "      <th>ScreenName</th>\n",
              "      <th>Location</th>\n",
              "      <th>TweetAt</th>\n",
              "      <th>OriginalTweet</th>\n",
              "      <th>Sentiment</th>\n",
              "    </tr>\n",
              "  </thead>\n",
              "  <tbody>\n",
              "    <tr>\n",
              "      <th>0</th>\n",
              "      <td>3799</td>\n",
              "      <td>48751</td>\n",
              "      <td>London</td>\n",
              "      <td>16-03-2020</td>\n",
              "      <td>@MeNyrbie @Phil_Gahan @Chrisitv https://t.co/i...</td>\n",
              "      <td>Neutral</td>\n",
              "    </tr>\n",
              "    <tr>\n",
              "      <th>1</th>\n",
              "      <td>3800</td>\n",
              "      <td>48752</td>\n",
              "      <td>UK</td>\n",
              "      <td>16-03-2020</td>\n",
              "      <td>advice Talk to your neighbours family to excha...</td>\n",
              "      <td>Positive</td>\n",
              "    </tr>\n",
              "    <tr>\n",
              "      <th>2</th>\n",
              "      <td>3801</td>\n",
              "      <td>48753</td>\n",
              "      <td>Vagabonds</td>\n",
              "      <td>16-03-2020</td>\n",
              "      <td>Coronavirus Australia: Woolworths to give elde...</td>\n",
              "      <td>Positive</td>\n",
              "    </tr>\n",
              "    <tr>\n",
              "      <th>3</th>\n",
              "      <td>3802</td>\n",
              "      <td>48754</td>\n",
              "      <td>NaN</td>\n",
              "      <td>16-03-2020</td>\n",
              "      <td>My food stock is not the only one which is emp...</td>\n",
              "      <td>Positive</td>\n",
              "    </tr>\n",
              "    <tr>\n",
              "      <th>4</th>\n",
              "      <td>3803</td>\n",
              "      <td>48755</td>\n",
              "      <td>NaN</td>\n",
              "      <td>16-03-2020</td>\n",
              "      <td>Me, ready to go at supermarket during the #COV...</td>\n",
              "      <td>Extremely Negative</td>\n",
              "    </tr>\n",
              "  </tbody>\n",
              "</table>\n",
              "</div>\n",
              "      <button class=\"colab-df-convert\" onclick=\"convertToInteractive('df-1d5b739a-d38c-43d1-aeb8-1acb3dd3c5f5')\"\n",
              "              title=\"Convert this dataframe to an interactive table.\"\n",
              "              style=\"display:none;\">\n",
              "        \n",
              "  <svg xmlns=\"http://www.w3.org/2000/svg\" height=\"24px\"viewBox=\"0 0 24 24\"\n",
              "       width=\"24px\">\n",
              "    <path d=\"M0 0h24v24H0V0z\" fill=\"none\"/>\n",
              "    <path d=\"M18.56 5.44l.94 2.06.94-2.06 2.06-.94-2.06-.94-.94-2.06-.94 2.06-2.06.94zm-11 1L8.5 8.5l.94-2.06 2.06-.94-2.06-.94L8.5 2.5l-.94 2.06-2.06.94zm10 10l.94 2.06.94-2.06 2.06-.94-2.06-.94-.94-2.06-.94 2.06-2.06.94z\"/><path d=\"M17.41 7.96l-1.37-1.37c-.4-.4-.92-.59-1.43-.59-.52 0-1.04.2-1.43.59L10.3 9.45l-7.72 7.72c-.78.78-.78 2.05 0 2.83L4 21.41c.39.39.9.59 1.41.59.51 0 1.02-.2 1.41-.59l7.78-7.78 2.81-2.81c.8-.78.8-2.07 0-2.86zM5.41 20L4 18.59l7.72-7.72 1.47 1.35L5.41 20z\"/>\n",
              "  </svg>\n",
              "      </button>\n",
              "      \n",
              "  <style>\n",
              "    .colab-df-container {\n",
              "      display:flex;\n",
              "      flex-wrap:wrap;\n",
              "      gap: 12px;\n",
              "    }\n",
              "\n",
              "    .colab-df-convert {\n",
              "      background-color: #E8F0FE;\n",
              "      border: none;\n",
              "      border-radius: 50%;\n",
              "      cursor: pointer;\n",
              "      display: none;\n",
              "      fill: #1967D2;\n",
              "      height: 32px;\n",
              "      padding: 0 0 0 0;\n",
              "      width: 32px;\n",
              "    }\n",
              "\n",
              "    .colab-df-convert:hover {\n",
              "      background-color: #E2EBFA;\n",
              "      box-shadow: 0px 1px 2px rgba(60, 64, 67, 0.3), 0px 1px 3px 1px rgba(60, 64, 67, 0.15);\n",
              "      fill: #174EA6;\n",
              "    }\n",
              "\n",
              "    [theme=dark] .colab-df-convert {\n",
              "      background-color: #3B4455;\n",
              "      fill: #D2E3FC;\n",
              "    }\n",
              "\n",
              "    [theme=dark] .colab-df-convert:hover {\n",
              "      background-color: #434B5C;\n",
              "      box-shadow: 0px 1px 3px 1px rgba(0, 0, 0, 0.15);\n",
              "      filter: drop-shadow(0px 1px 2px rgba(0, 0, 0, 0.3));\n",
              "      fill: #FFFFFF;\n",
              "    }\n",
              "  </style>\n",
              "\n",
              "      <script>\n",
              "        const buttonEl =\n",
              "          document.querySelector('#df-1d5b739a-d38c-43d1-aeb8-1acb3dd3c5f5 button.colab-df-convert');\n",
              "        buttonEl.style.display =\n",
              "          google.colab.kernel.accessAllowed ? 'block' : 'none';\n",
              "\n",
              "        async function convertToInteractive(key) {\n",
              "          const element = document.querySelector('#df-1d5b739a-d38c-43d1-aeb8-1acb3dd3c5f5');\n",
              "          const dataTable =\n",
              "            await google.colab.kernel.invokeFunction('convertToInteractive',\n",
              "                                                     [key], {});\n",
              "          if (!dataTable) return;\n",
              "\n",
              "          const docLinkHtml = 'Like what you see? Visit the ' +\n",
              "            '<a target=\"_blank\" href=https://colab.research.google.com/notebooks/data_table.ipynb>data table notebook</a>'\n",
              "            + ' to learn more about interactive tables.';\n",
              "          element.innerHTML = '';\n",
              "          dataTable['output_type'] = 'display_data';\n",
              "          await google.colab.output.renderOutput(dataTable, element);\n",
              "          const docLink = document.createElement('div');\n",
              "          docLink.innerHTML = docLinkHtml;\n",
              "          element.appendChild(docLink);\n",
              "        }\n",
              "      </script>\n",
              "    </div>\n",
              "  </div>\n",
              "  "
            ]
          },
          "metadata": {},
          "execution_count": 4
        }
      ]
    },
    {
      "cell_type": "markdown",
      "source": [
        "### Dataset Rows & Columns count"
      ],
      "metadata": {
        "id": "7hBIi_osiCS2"
      }
    },
    {
      "cell_type": "code",
      "source": [
        "# Dataset Rows & Columns count\n",
        "df.shape"
      ],
      "metadata": {
        "id": "Kllu7SJgmLij",
        "colab": {
          "base_uri": "https://localhost:8080/"
        },
        "outputId": "002a56fa-6515-4862-d968-8bfd3daa21ca"
      },
      "execution_count": 5,
      "outputs": [
        {
          "output_type": "execute_result",
          "data": {
            "text/plain": [
              "(41157, 6)"
            ]
          },
          "metadata": {},
          "execution_count": 5
        }
      ]
    },
    {
      "cell_type": "markdown",
      "source": [
        "### Dataset Information"
      ],
      "metadata": {
        "id": "JlHwYmJAmNHm"
      }
    },
    {
      "cell_type": "code",
      "source": [
        "# Dataset Info\n",
        "df.info()"
      ],
      "metadata": {
        "id": "e9hRXRi6meOf",
        "colab": {
          "base_uri": "https://localhost:8080/"
        },
        "outputId": "ff4088c2-2715-4a6e-c488-631f56fe6de9"
      },
      "execution_count": 6,
      "outputs": [
        {
          "output_type": "stream",
          "name": "stdout",
          "text": [
            "<class 'pandas.core.frame.DataFrame'>\n",
            "RangeIndex: 41157 entries, 0 to 41156\n",
            "Data columns (total 6 columns):\n",
            " #   Column         Non-Null Count  Dtype \n",
            "---  ------         --------------  ----- \n",
            " 0   UserName       41157 non-null  int64 \n",
            " 1   ScreenName     41157 non-null  int64 \n",
            " 2   Location       32567 non-null  object\n",
            " 3   TweetAt        41157 non-null  object\n",
            " 4   OriginalTweet  41157 non-null  object\n",
            " 5   Sentiment      41157 non-null  object\n",
            "dtypes: int64(2), object(4)\n",
            "memory usage: 1.9+ MB\n"
          ]
        }
      ]
    },
    {
      "cell_type": "markdown",
      "source": [
        "#### Duplicate Values"
      ],
      "metadata": {
        "id": "35m5QtbWiB9F"
      }
    },
    {
      "cell_type": "code",
      "source": [
        "# Dataset Duplicate Value Count\n",
        "df[df.duplicated()]"
      ],
      "metadata": {
        "id": "1sLdpKYkmox0",
        "colab": {
          "base_uri": "https://localhost:8080/",
          "height": 49
        },
        "outputId": "a0d946fe-2e54-4372-fdbc-e36b724b9c24"
      },
      "execution_count": 7,
      "outputs": [
        {
          "output_type": "execute_result",
          "data": {
            "text/plain": [
              "Empty DataFrame\n",
              "Columns: [UserName, ScreenName, Location, TweetAt, OriginalTweet, Sentiment]\n",
              "Index: []"
            ],
            "text/html": [
              "\n",
              "  <div id=\"df-5269d7c2-8498-4b30-9c89-0369604f37b4\">\n",
              "    <div class=\"colab-df-container\">\n",
              "      <div>\n",
              "<style scoped>\n",
              "    .dataframe tbody tr th:only-of-type {\n",
              "        vertical-align: middle;\n",
              "    }\n",
              "\n",
              "    .dataframe tbody tr th {\n",
              "        vertical-align: top;\n",
              "    }\n",
              "\n",
              "    .dataframe thead th {\n",
              "        text-align: right;\n",
              "    }\n",
              "</style>\n",
              "<table border=\"1\" class=\"dataframe\">\n",
              "  <thead>\n",
              "    <tr style=\"text-align: right;\">\n",
              "      <th></th>\n",
              "      <th>UserName</th>\n",
              "      <th>ScreenName</th>\n",
              "      <th>Location</th>\n",
              "      <th>TweetAt</th>\n",
              "      <th>OriginalTweet</th>\n",
              "      <th>Sentiment</th>\n",
              "    </tr>\n",
              "  </thead>\n",
              "  <tbody>\n",
              "  </tbody>\n",
              "</table>\n",
              "</div>\n",
              "      <button class=\"colab-df-convert\" onclick=\"convertToInteractive('df-5269d7c2-8498-4b30-9c89-0369604f37b4')\"\n",
              "              title=\"Convert this dataframe to an interactive table.\"\n",
              "              style=\"display:none;\">\n",
              "        \n",
              "  <svg xmlns=\"http://www.w3.org/2000/svg\" height=\"24px\"viewBox=\"0 0 24 24\"\n",
              "       width=\"24px\">\n",
              "    <path d=\"M0 0h24v24H0V0z\" fill=\"none\"/>\n",
              "    <path d=\"M18.56 5.44l.94 2.06.94-2.06 2.06-.94-2.06-.94-.94-2.06-.94 2.06-2.06.94zm-11 1L8.5 8.5l.94-2.06 2.06-.94-2.06-.94L8.5 2.5l-.94 2.06-2.06.94zm10 10l.94 2.06.94-2.06 2.06-.94-2.06-.94-.94-2.06-.94 2.06-2.06.94z\"/><path d=\"M17.41 7.96l-1.37-1.37c-.4-.4-.92-.59-1.43-.59-.52 0-1.04.2-1.43.59L10.3 9.45l-7.72 7.72c-.78.78-.78 2.05 0 2.83L4 21.41c.39.39.9.59 1.41.59.51 0 1.02-.2 1.41-.59l7.78-7.78 2.81-2.81c.8-.78.8-2.07 0-2.86zM5.41 20L4 18.59l7.72-7.72 1.47 1.35L5.41 20z\"/>\n",
              "  </svg>\n",
              "      </button>\n",
              "      \n",
              "  <style>\n",
              "    .colab-df-container {\n",
              "      display:flex;\n",
              "      flex-wrap:wrap;\n",
              "      gap: 12px;\n",
              "    }\n",
              "\n",
              "    .colab-df-convert {\n",
              "      background-color: #E8F0FE;\n",
              "      border: none;\n",
              "      border-radius: 50%;\n",
              "      cursor: pointer;\n",
              "      display: none;\n",
              "      fill: #1967D2;\n",
              "      height: 32px;\n",
              "      padding: 0 0 0 0;\n",
              "      width: 32px;\n",
              "    }\n",
              "\n",
              "    .colab-df-convert:hover {\n",
              "      background-color: #E2EBFA;\n",
              "      box-shadow: 0px 1px 2px rgba(60, 64, 67, 0.3), 0px 1px 3px 1px rgba(60, 64, 67, 0.15);\n",
              "      fill: #174EA6;\n",
              "    }\n",
              "\n",
              "    [theme=dark] .colab-df-convert {\n",
              "      background-color: #3B4455;\n",
              "      fill: #D2E3FC;\n",
              "    }\n",
              "\n",
              "    [theme=dark] .colab-df-convert:hover {\n",
              "      background-color: #434B5C;\n",
              "      box-shadow: 0px 1px 3px 1px rgba(0, 0, 0, 0.15);\n",
              "      filter: drop-shadow(0px 1px 2px rgba(0, 0, 0, 0.3));\n",
              "      fill: #FFFFFF;\n",
              "    }\n",
              "  </style>\n",
              "\n",
              "      <script>\n",
              "        const buttonEl =\n",
              "          document.querySelector('#df-5269d7c2-8498-4b30-9c89-0369604f37b4 button.colab-df-convert');\n",
              "        buttonEl.style.display =\n",
              "          google.colab.kernel.accessAllowed ? 'block' : 'none';\n",
              "\n",
              "        async function convertToInteractive(key) {\n",
              "          const element = document.querySelector('#df-5269d7c2-8498-4b30-9c89-0369604f37b4');\n",
              "          const dataTable =\n",
              "            await google.colab.kernel.invokeFunction('convertToInteractive',\n",
              "                                                     [key], {});\n",
              "          if (!dataTable) return;\n",
              "\n",
              "          const docLinkHtml = 'Like what you see? Visit the ' +\n",
              "            '<a target=\"_blank\" href=https://colab.research.google.com/notebooks/data_table.ipynb>data table notebook</a>'\n",
              "            + ' to learn more about interactive tables.';\n",
              "          element.innerHTML = '';\n",
              "          dataTable['output_type'] = 'display_data';\n",
              "          await google.colab.output.renderOutput(dataTable, element);\n",
              "          const docLink = document.createElement('div');\n",
              "          docLink.innerHTML = docLinkHtml;\n",
              "          element.appendChild(docLink);\n",
              "        }\n",
              "      </script>\n",
              "    </div>\n",
              "  </div>\n",
              "  "
            ]
          },
          "metadata": {},
          "execution_count": 7
        }
      ]
    },
    {
      "cell_type": "markdown",
      "source": [
        "#### Missing Values/Null Values"
      ],
      "metadata": {
        "id": "PoPl-ycgm1ru"
      }
    },
    {
      "cell_type": "code",
      "source": [
        "# Missing Values/Null Values Count\n",
        "df.isnull().sum()"
      ],
      "metadata": {
        "id": "GgHWkxvamxVg",
        "colab": {
          "base_uri": "https://localhost:8080/"
        },
        "outputId": "319ec7fd-32e2-43ce-abfa-c6ca3ff02f86"
      },
      "execution_count": 12,
      "outputs": [
        {
          "output_type": "execute_result",
          "data": {
            "text/plain": [
              "UserName            0\n",
              "ScreenName          0\n",
              "Location         8590\n",
              "TweetAt             0\n",
              "OriginalTweet       0\n",
              "Sentiment           0\n",
              "dtype: int64"
            ]
          },
          "metadata": {},
          "execution_count": 12
        }
      ]
    },
    {
      "cell_type": "code",
      "source": [
        "# Visualizing the missing values using Heatmap\n",
        "plt.figure(figsize = (10,5))\n",
        "sns.heatmap(df.isnull(), cbar=True, annot=False, yticklabels=False)\n",
        "plt.title('Visualizing the missing values', fontsize = 15)"
      ],
      "metadata": {
        "id": "3q5wnI3om9sJ",
        "colab": {
          "base_uri": "https://localhost:8080/",
          "height": 355
        },
        "outputId": "6b9b6ebb-46c6-4255-8d7d-e262970aef12"
      },
      "execution_count": 13,
      "outputs": [
        {
          "output_type": "execute_result",
          "data": {
            "text/plain": [
              "Text(0.5, 1.0, 'Visualizing the missing values')"
            ]
          },
          "metadata": {},
          "execution_count": 13
        },
        {
          "output_type": "display_data",
          "data": {
            "text/plain": [
              "<Figure size 720x360 with 2 Axes>"
            ],
            "image/png": "[encoded data removed]"
          },
          "metadata": {
            "needs_background": "light"
          }
        }
      ]
    },
    {
      "cell_type": "markdown",
      "source": [
        "### What did you know about your dataset?"
      ],
      "metadata": {
        "id": "H0kj-8xxnORC"
      }
    },
    {
      "cell_type": "markdown",
      "source": [
        "* There are 41157 rows and 6 columns in this dataset.\n",
        "* Dataset has no duplicated rows.\n",
        "* Location column has 8590 null values."
      ],
      "metadata": {
        "id": "gfoNAAC-nUe_"
      }
    },
    {
      "cell_type": "markdown",
      "source": [
        "## ***2. Understanding Your Variables***"
      ],
      "metadata": {
        "id": "nA9Y7ga8ng1Z"
      }
    },
    {
      "cell_type": "code",
      "source": [
        "# Dataset Columns\n",
        "df.columns"
      ],
      "metadata": {
        "id": "j7xfkqrt5Ag5",
        "colab": {
          "base_uri": "https://localhost:8080/"
        },
        "outputId": "27921558-685b-4cbb-c304-5e1f08e70e79"
      },
      "execution_count": 15,
      "outputs": [
        {
          "output_type": "execute_result",
          "data": {
            "text/plain": [
              "Index(['UserName', 'ScreenName', 'Location', 'TweetAt', 'OriginalTweet',\n",
              "       'Sentiment'],\n",
              "      dtype='object')"
            ]
          },
          "metadata": {},
          "execution_count": 15
        }
      ]
    },
    {
      "cell_type": "code",
      "source": [
        "# Dataset Describe\n",
        "df.describe(include = 'all')"
      ],
      "metadata": {
        "id": "DnOaZdaE5Q5t",
        "colab": {
          "base_uri": "https://localhost:8080/",
          "height": 394
        },
        "outputId": "2b0b02d6-c193-4b3a-87d2-8cee5aac2fd6"
      },
      "execution_count": 17,
      "outputs": [
        {
          "output_type": "execute_result",
          "data": {
            "text/plain": [
              "            UserName    ScreenName Location     TweetAt  \\\n",
              "count   41157.000000  41157.000000    32567       41157   \n",
              "unique           NaN           NaN    12220          30   \n",
              "top              NaN           NaN   London  20-03-2020   \n",
              "freq             NaN           NaN      540        3448   \n",
              "mean    24377.000000  69329.000000      NaN         NaN   \n",
              "std     11881.146851  11881.146851      NaN         NaN   \n",
              "min      3799.000000  48751.000000      NaN         NaN   \n",
              "25%     14088.000000  59040.000000      NaN         NaN   \n",
              "50%     24377.000000  69329.000000      NaN         NaN   \n",
              "75%     34666.000000  79618.000000      NaN         NaN   \n",
              "max     44955.000000  89907.000000      NaN         NaN   \n",
              "\n",
              "                                            OriginalTweet Sentiment  \n",
              "count                                               41157     41157  \n",
              "unique                                              41157         5  \n",
              "top     @MeNyrbie @Phil_Gahan @Chrisitv https://t.co/i...  Positive  \n",
              "freq                                                    1     11422  \n",
              "mean                                                  NaN       NaN  \n",
              "std                                                   NaN       NaN  \n",
              "min                                                   NaN       NaN  \n",
              "25%                                                   NaN       NaN  \n",
              "50%                                                   NaN       NaN  \n",
              "75%                                                   NaN       NaN  \n",
              "max                                                   NaN       NaN  "
            ],
            "text/html": [
              "\n",
              "  <div id=\"df-ba2ebb4b-8c66-482b-a87e-c2d12d985f43\">\n",
              "    <div class=\"colab-df-container\">\n",
              "      <div>\n",
              "<style scoped>\n",
              "    .dataframe tbody tr th:only-of-type {\n",
              "        vertical-align: middle;\n",
              "    }\n",
              "\n",
              "    .dataframe tbody tr th {\n",
              "        vertical-align: top;\n",
              "    }\n",
              "\n",
              "    .dataframe thead th {\n",
              "        text-align: right;\n",
              "    }\n",
              "</style>\n",
              "<table border=\"1\" class=\"dataframe\">\n",
              "  <thead>\n",
              "    <tr style=\"text-align: right;\">\n",
              "      <th></th>\n",
              "      <th>UserName</th>\n",
              "      <th>ScreenName</th>\n",
              "      <th>Location</th>\n",
              "      <th>TweetAt</th>\n",
              "      <th>OriginalTweet</th>\n",
              "      <th>Sentiment</th>\n",
              "    </tr>\n",
              "  </thead>\n",
              "  <tbody>\n",
              "    <tr>\n",
              "      <th>count</th>\n",
              "      <td>41157.000000</td>\n",
              "      <td>41157.000000</td>\n",
              "      <td>32567</td>\n",
              "      <td>41157</td>\n",
              "      <td>41157</td>\n",
              "      <td>41157</td>\n",
              "    </tr>\n",
              "    <tr>\n",
              "      <th>unique</th>\n",
              "      <td>NaN</td>\n",
              "      <td>NaN</td>\n",
              "      <td>12220</td>\n",
              "      <td>30</td>\n",
              "      <td>41157</td>\n",
              "      <td>5</td>\n",
              "    </tr>\n",
              "    <tr>\n",
              "      <th>top</th>\n",
              "      <td>NaN</td>\n",
              "      <td>NaN</td>\n",
              "      <td>London</td>\n",
              "      <td>20-03-2020</td>\n",
              "      <td>@MeNyrbie @Phil_Gahan @Chrisitv https://t.co/i...</td>\n",
              "      <td>Positive</td>\n",
              "    </tr>\n",
              "    <tr>\n",
              "      <th>freq</th>\n",
              "      <td>NaN</td>\n",
              "      <td>NaN</td>\n",
              "      <td>540</td>\n",
              "      <td>3448</td>\n",
              "      <td>1</td>\n",
              "      <td>11422</td>\n",
              "    </tr>\n",
              "    <tr>\n",
              "      <th>mean</th>\n",
              "      <td>24377.000000</td>\n",
              "      <td>69329.000000</td>\n",
              "      <td>NaN</td>\n",
              "      <td>NaN</td>\n",
              "      <td>NaN</td>\n",
              "      <td>NaN</td>\n",
              "    </tr>\n",
              "    <tr>\n",
              "      <th>std</th>\n",
              "      <td>11881.146851</td>\n",
              "      <td>11881.146851</td>\n",
              "      <td>NaN</td>\n",
              "      <td>NaN</td>\n",
              "      <td>NaN</td>\n",
              "      <td>NaN</td>\n",
              "    </tr>\n",
              "    <tr>\n",
              "      <th>min</th>\n",
              "      <td>3799.000000</td>\n",
              "      <td>48751.000000</td>\n",
              "      <td>NaN</td>\n",
              "      <td>NaN</td>\n",
              "      <td>NaN</td>\n",
              "      <td>NaN</td>\n",
              "    </tr>\n",
              "    <tr>\n",
              "      <th>25%</th>\n",
              "      <td>14088.000000</td>\n",
              "      <td>59040.000000</td>\n",
              "      <td>NaN</td>\n",
              "      <td>NaN</td>\n",
              "      <td>NaN</td>\n",
              "      <td>NaN</td>\n",
              "    </tr>\n",
              "    <tr>\n",
              "      <th>50%</th>\n",
              "      <td>24377.000000</td>\n",
              "      <td>69329.000000</td>\n",
              "      <td>NaN</td>\n",
              "      <td>NaN</td>\n",
              "      <td>NaN</td>\n",
              "      <td>NaN</td>\n",
              "    </tr>\n",
              "    <tr>\n",
              "      <th>75%</th>\n",
              "      <td>34666.000000</td>\n",
              "      <td>79618.000000</td>\n",
              "      <td>NaN</td>\n",
              "      <td>NaN</td>\n",
              "      <td>NaN</td>\n",
              "      <td>NaN</td>\n",
              "    </tr>\n",
              "    <tr>\n",
              "      <th>max</th>\n",
              "      <td>44955.000000</td>\n",
              "      <td>89907.000000</td>\n",
              "      <td>NaN</td>\n",
              "      <td>NaN</td>\n",
              "      <td>NaN</td>\n",
              "      <td>NaN</td>\n",
              "    </tr>\n",
              "  </tbody>\n",
              "</table>\n",
              "</div>\n",
              "      <button class=\"colab-df-convert\" onclick=\"convertToInteractive('df-ba2ebb4b-8c66-482b-a87e-c2d12d985f43')\"\n",
              "              title=\"Convert this dataframe to an interactive table.\"\n",
              "              style=\"display:none;\">\n",
              "        \n",
              "  <svg xmlns=\"http://www.w3.org/2000/svg\" height=\"24px\"viewBox=\"0 0 24 24\"\n",
              "       width=\"24px\">\n",
              "    <path d=\"M0 0h24v24H0V0z\" fill=\"none\"/>\n",
              "    <path d=\"M18.56 5.44l.94 2.06.94-2.06 2.06-.94-2.06-.94-.94-2.06-.94 2.06-2.06.94zm-11 1L8.5 8.5l.94-2.06 2.06-.94-2.06-.94L8.5 2.5l-.94 2.06-2.06.94zm10 10l.94 2.06.94-2.06 2.06-.94-2.06-.94-.94-2.06-.94 2.06-2.06.94z\"/><path d=\"M17.41 7.96l-1.37-1.37c-.4-.4-.92-.59-1.43-.59-.52 0-1.04.2-1.43.59L10.3 9.45l-7.72 7.72c-.78.78-.78 2.05 0 2.83L4 21.41c.39.39.9.59 1.41.59.51 0 1.02-.2 1.41-.59l7.78-7.78 2.81-2.81c.8-.78.8-2.07 0-2.86zM5.41 20L4 18.59l7.72-7.72 1.47 1.35L5.41 20z\"/>\n",
              "  </svg>\n",
              "      </button>\n",
              "      \n",
              "  <style>\n",
              "    .colab-df-container {\n",
              "      display:flex;\n",
              "      flex-wrap:wrap;\n",
              "      gap: 12px;\n",
              "    }\n",
              "\n",
              "    .colab-df-convert {\n",
              "      background-color: #E8F0FE;\n",
              "      border: none;\n",
              "      border-radius: 50%;\n",
              "      cursor: pointer;\n",
              "      display: none;\n",
              "      fill: #1967D2;\n",
              "      height: 32px;\n",
              "      padding: 0 0 0 0;\n",
              "      width: 32px;\n",
              "    }\n",
              "\n",
              "    .colab-df-convert:hover {\n",
              "      background-color: #E2EBFA;\n",
              "      box-shadow: 0px 1px 2px rgba(60, 64, 67, 0.3), 0px 1px 3px 1px rgba(60, 64, 67, 0.15);\n",
              "      fill: #174EA6;\n",
              "    }\n",
              "\n",
              "    [theme=dark] .colab-df-convert {\n",
              "      background-color: #3B4455;\n",
              "      fill: #D2E3FC;\n",
              "    }\n",
              "\n",
              "    [theme=dark] .colab-df-convert:hover {\n",
              "      background-color: #434B5C;\n",
              "      box-shadow: 0px 1px 3px 1px rgba(0, 0, 0, 0.15);\n",
              "      filter: drop-shadow(0px 1px 2px rgba(0, 0, 0, 0.3));\n",
              "      fill: #FFFFFF;\n",
              "    }\n",
              "  </style>\n",
              "\n",
              "      <script>\n",
              "        const buttonEl =\n",
              "          document.querySelector('#df-ba2ebb4b-8c66-482b-a87e-c2d12d985f43 button.colab-df-convert');\n",
              "        buttonEl.style.display =\n",
              "          google.colab.kernel.accessAllowed ? 'block' : 'none';\n",
              "\n",
              "        async function convertToInteractive(key) {\n",
              "          const element = document.querySelector('#df-ba2ebb4b-8c66-482b-a87e-c2d12d985f43');\n",
              "          const dataTable =\n",
              "            await google.colab.kernel.invokeFunction('convertToInteractive',\n",
              "                                                     [key], {});\n",
              "          if (!dataTable) return;\n",
              "\n",
              "          const docLinkHtml = 'Like what you see? Visit the ' +\n",
              "            '<a target=\"_blank\" href=https://colab.research.google.com/notebooks/data_table.ipynb>data table notebook</a>'\n",
              "            + ' to learn more about interactive tables.';\n",
              "          element.innerHTML = '';\n",
              "          dataTable['output_type'] = 'display_data';\n",
              "          await google.colab.output.renderOutput(dataTable, element);\n",
              "          const docLink = document.createElement('div');\n",
              "          docLink.innerHTML = docLinkHtml;\n",
              "          element.appendChild(docLink);\n",
              "        }\n",
              "      </script>\n",
              "    </div>\n",
              "  </div>\n",
              "  "
            ]
          },
          "metadata": {},
          "execution_count": 17
        }
      ]
    },
    {
      "cell_type": "markdown",
      "source": [
        "### Variables Description "
      ],
      "metadata": {
        "id": "PBTbrJXOngz2"
      }
    },
    {
      "cell_type": "markdown",
      "source": [
        "![Classification_Coronavirus_Tweet_Sentiment_Analysis_403444d088.png](data:image/png;base64,iVBORw0KGgoAAAANSUhEUgAAAecAAAEnCAYAAACT5YvgAAAACXBIWXMAAA7DAAAOwwHHb6hkAAAgAElEQVR4nO2d6Y9VRf7/+x/gCQ9MfES+kxjmwRAmwzAYHTJmSMAIw2JYBySA7LIMg7IOoKAYQZARB5BhQAYiOwJhGJUlICAKGECJIAgoq7IN+w71y/uT1P2dPtx7u29DN111X6/kprvvOadOnUt96lX1qeqmxAEAAEC1ouRRVwAAAABKg5wBAACqGcgZAACgOsu5pKSEF58BbYA2QBugDdAGSqr+M8grZwAIE+IXIFyQM0CkIGeAcEHOAJGCnAHCBTkDRApyBggX5AwQKcgZIFyQM0CkIGeAcEHOAJGCnAHCBTkDRApyBggX5AwQKcgZIFyQM0CkIGeAcEHOAJGCnAHCBTkDRApyBggX5AwQKcgZIFyQM0CkIGeAcEHOAJGCnAHCBTkDRApyBgiXhy7nO3fuuPfff98NGDDAnT17Nu+5X3zxhfu///s/t3jx4vuOHTx40P3+9793b731VsF1AIDqLedC+omHeS1A9HKWNCXW9Gvr1q3u73//u2vatKk7evRo3psjZ4DKo7zx+8QTT7g///nPFrv37t2rkn8SCba8/YSvrwbrGrQXei1A0cn5V7/6lRs1apR75513Mq9Dhw6V++bIGaDyKG/8vv32265Vq1Ym6SVLllSZoAshKWeAYuCB5JwrWJLHFOg7duxwbdu2tVH6n/70J/s5LWedt3r1avfUU0+53/3ud+7NN9+0731a+5tvvrHRvc7X8dmzZ9sIGgDKF9z54vfcuXMWX82bN3c//fRT3ri9fv26mz59uvv1r39tQu/cuXNmUH7+/Hk3duxY98tf/tKO6zyd72P9b3/7m5X1j3/8o1Qd/HGlqp999lm7fvz48e7q1av3Zel0brr+6h9UD9Xnj3/8o1u2bJn1D77c4cOH2/Pp+MCBA62eANHKWfL86quvrKHrdfHiRQvqZOD4tWOloObMmWMB0rhxY/fjjz+WkvO+ffvck08+aefNnz/fAk3HVJbKfeGFF1zr1q3dunXr3KuvvmpB9vHHH1feJwMQOIUOriVML798cbtmzRqLP52/atUqk2GXLl1s/XfkyJEmZaWdX3/9dTtv3rx5mVjXz5Lvf/7zn6xy1v3+/e9/u0GDBmX6hu+++86k/dvf/tZ+1kAiea3qpLo988wzmbVo3Uf38OXqmJ7Dl7t8+fIq+lcAqAZrzhqRXrt2rVTgKICVPpPEhda1dK4CPClnBYu+37Bhg5134MCBzMz5f//7n4lZr6+//tpduHDBBgO6FwCUL7jLkrPi0Ms5X9wqViW/f/7zn+706dMWn3p9//337g9/+IPNeDVIv3LlivvXv/5l5/vr9bNPm2eTs98ceurUKRP14MGD3Y0bN+6rb/LndN+RvHbz5s2lyk32KwBFPXPOtXFMwZIMyGTHkG23tlJqGnH70ffo0aNJTQEUENyFzJzzxa1SzRKwUs9+Vrpp0yYTX67fsMi2vySfnNWfaB0824A/fW2679D5uk7Xr127tlS5/BYIhEKlrzkr4H/zm9/YCNZL3M96yztzvnXrll2jTkEpLY3YJWhSUwDlD+588at1ZmWm/JpzrrhVDGoQrpmyZrTKZPms1u7du0vNnG/evGmDap3z+eefFyTnypo5I2cIhUqXszZqJNeSp02b5l566SX3888/l3vN2a8p6ToF+YwZM0zOSrEBQPmCu5Dd2rniVuL2m8EUt5oxS8zaE3LmzJky15zLknN6bVhr2kIbQPXzK6+8YsLPtebsr02vOSNnCI1Kl3N6J6V2Wqd3cPrd2uvXr7fZsoJbo151Drl2a2vtSiNzAChfcBf6e8654jbbbm1lusqzW7ssOUus2s2t6ydNmmTXih9++MF2jut+K1euzNvHqA9J79ZGzhAa/PlOgEipzn8hrJC/eQBQjCBngEhBzgDhgpwBIgU5A4QLcgaIlJDkDAClQc4AkYKcAcIFOQNECnIGCBfkDBApyBkgXJAzQKQgZ4BwQc4AkYKcAcIFOQNECnIGCBfkDBApyBkgXJAzQKQgZ4BwQc4AkYKcAcIFOQNECnIGCBfkDBApyBkgYjnz4jOgDdAGaAO0AdpASZV/BnnlDABhQvwChAtyBogU5AwQLsgZIFKQM0C4IGeASEHOAOGCnAEiBTkDhAtyBogU5AwQLsgZIFKQM0C4IGeASEHOAOGCnAEiBTkDhAtyBogU5AwQLsgZIFKQM0C4IGeASEHOAOGCnAEiBTkDhAtyBogU5AwQLsgZIFKQM0C4IGeASEHOAOGCnAEiparkfO3aNderVy+3ZcuWKrkOoBiosJzHjh1rryT79+937du3d2fPnn3Y9QSAhyzno0ePuh49eriaNWvaa/Dgwe7UqVPVQs70L1DslCBngOKT808//eTatWvnFi1a5G7fvm2inDlzpuvWrZu7cuVKQfdBzgAByVkBv2DBAlenTh1Xo0YNG6GfPn06E8xTpkxxtWrVsteMGTPsfF3fsmVLN3r0aFe/fn37WfeYOHGiXa9yWrVq5Q4cOHBfORr5jxkzJtOx+Pp17do1c922bdvciBEj7NyGDRvaz55du3bZOXrm5D0AQiVf/M6fP98NGTLE4s5z5swZ16JFC7dz5877YqJRo0Zu69at7t69e3bsq6++svcUSwMGDHDNmjXLzIBzxXdZ1yWhf4Fip6Sy5KwAV2AfO3bM3bhxw40fP96NGjXKglSB26dPH3fp0iVLo3Xs2NGtW7fOrq9Xr56N4NVR6Fzdo2nTpu7QoUNWjn4eN26cdRKzZs3KlKNX9+7drdPx9evSpYsNCPx1devWdbt373Z37txxq1evdp07d7brjhw54ho3buzWr19vx5YuXVqhGQRAdaKs+PWxkg0fE2vXrrWY2L59u8WhYvTnn392rVu3ditXrrRje/bscQ0aNDDJKi5zxXe+67LVj/4FipmSypLz3r17M8K7efOmvS5cuODOnTvn2rZta4HpUSehsnS9jvkZdrZORIGsdSqNzi9fvmxfPXPnzs3UKX3dpk2bMtel67pw4UI3fPhw6zCE3tMxnQMQKrni16eh88k5HROS7qRJk2wWrIyTH9gmy1Nsnj9/Pmd857suDf0LFDsllSVnBbNmqS+++KL7xS9+YellbUDRsSZNmljZyVffvn0toNMbyvLJWaIfOXKkpc58ObnknLwuXVedl66PUuHJtDdAMc2cvVCzvZeOpaRk88X3hg0bcl6XrX70L1DMlFRUzhpBa43Xr0GJffv22ahZAepntkLp6Tlz5liA+jSXzk2Tbbd3LsmqbKXJ33nnnUywJzuUQuSsWUL6WQBCJ1/8akko35pzrpnz5MmTy5w554rvQmbO9C9Q7JRUVM47duxwzzzzjAXc3bt33cWLF01wEqYCWmtMClLJWMc/+OADk7PWcSdMmOCGDRtmgazOYfny5W7jxo0FyVkp8kGDBpn0VcbJkydt01hF5KzNX88995z77LPPrK5aJ586dao9E0DMu7VXrVpVard279697fv0mrOyWvpZy1X51o71c674LmTNmf4Fip2SispZI2kFnHZb6rzatWvbRhC/iUpBOXv27MxubY2Ytakr2y5r7aBWiroQOasMSdXvJtWMXef60X4hck7vTNVObq2VM5OGYvk9Z8WilogUh558u7V1TLGv2O7fv79JPdtu7WR8l3VdEvoXKHZKKipnAKjeEL8A4YKcASIFOQOEC3IGiBTkDBAuyBkgUpAzQLggZ4BIQc4A4YKcASIFOQOEC3IGiBTkDBAuyBkgUpAzQLggZ4BIQc4A4YKcASIFOQOEC3IGiBTkDBAuyBkgUpAzQLggZ4BIQc4A4YKcASIFOQOEC3IGiBTkDBAuyBkgUpAzQMRy5sVnQBugDdAGaAO0gZIq/wzyyhkAwoT4BQgX5AwQKcgZIFyQM0CkIGeAcEHOAJGCnAHCBTkDRApyBggX5AwQKcgZIFyQM0CkIGeAcEHOAJGCnAHCBTkDRApyBggX5AwQKcgZIFyQM0CkIGeAcEHOAJGCnAHCBTkDRApyBggX5AwQKcgZIFyQM0CkVJWcr1275nr16uW2bNlSJdcBFAMVlvPt27fdggULXIMGDey8Ro0aubVr17q7d++6R838+fOtXgcOHLjv/bFjxz6yegFUJzkfPXrU9ejRw9WsWdNegwcPdqdOnaoWcqZ/gWKnpKJyXrFihevWrZs7efKk/Xzo0CHXrFkzt27dOveokYRV9379+lkHkHwfOUOxkC9+f/rpJ9euXTu3aNEiE6HiZObMmRbTV65ceeRypn+BYqekonKW5GbMmFHqvaVLl7p3333XvtestU2bNq5GjRquYcOGbuvWre7evXsWiHp/wIAB7tlnn3Vnz561EXzXrl0z527bti1T5q5du1yrVq2sLvrqZ8O6/8SJE23kr+uSxyThpk2busaNG9vsPpucVZf169fb/bKVrZevk46pTiNGjLAZRnnrCPAoyRe/ioUhQ4aYmD1nzpxxLVq0cDt37ryvXSsz5mNYfPXVV/ae4kGxrIG5l6ykO2XKFFerVi17qZ/w98l3XbH0L6pjhw4d3Ouvv26fT506ddzixYvdhx9+aN+nPzP6l+KkwnJWA6tfv76bPXu2O3/+fKljp0+ftsa3evVqd+fOHbdnzx4L+sOHD9t1anwrV6606xQ8GsHPmzfPzt28ebM1ZM3Ijxw5YgGgRq5jCk4/slcQKEA0Y79x44b9PG7cOAsKBYlG5Js2bXLPPPNMqaDywbN3714r+5tvvrFU/AcffGDXqGPROV26dLHn8GXXrVvX7d692+qh5+rcubO7dOlS3joCPErKGlwrHnLh27WWqtSut2/fbvG2f/9+9/PPP7vWrVtbDPv41jKSYlvxJzH36dPH4kNp8o4dO1pGLd91xdS/qI7qT7744gs7ps/48ccfd3PmzDEh6zmaN29uz0X/UryUVFTOQoE6cOBAGwUn15w1Mu3Zs6e7evWqnaeGr9GfRuZqmN27d88c07ledOlU18KFC93w4cPteqFAa9++vd033bnofN/4ffAoyJSq8+ntZPDcvHnTXbhwITMT2Ldvn2vbtq3dI122gtCX7Z9b9dC5+eoI8CjJFb8+xvLJOd2uFSeTJk2yGV2+mJUQFUcSi8fHXb7riql/SZblBxs65vuM8tYR4uah7NbWaO+zzz6zNJLWijQCTTa+JOmGqZ91n/RLjdKvHSdfSjEp4MoTPPr+4sWLNgtW+ikZPOkNJ3o1adIkq5zTdU7KOV8dAUKdOWfbn+HfS8dDUiaKCcVROib69u3rNmzYkPO6Yupf0nVMCzf5udC/FC8lFZGzRoRqPH5tyjN37tzMCDk5stXoUddoNJlumOlzkyiAxowZkxl9Jilv8AiN4pViGjp0aCZ4lGZTuu348eP3CbcQOeerI0B1lfOsWbPyrjnnmjlPnjy5zJmz4kozxTTlnTnH3r8UImf6l+KlpCJy9utK2izhd2vrq35W0Ps1IZ+G0rqLgl5rM9lSOjrX7xpVcL/33nvuxIkTdv5zzz1no2aVc+zYMTd16lQbrRYSPKqv0k96Hh88WpNS+kv38ztV/QaSQuScr44A1X239qpVq0rt1u7du7d9n15z9gLSWmq+tWP9PGHCBDds2DCLLZW9fPlyt3HjxnKvOcfevxQiZ/qX4qWkomltbZLQ7kKfttHX6dOnZxpccjel1ot8mjfdMEVyN6V2KyodlG2nonY+avOGgqGQ4BEKOI3affBovUijZq1n6Z6aETz//PMWtIXIOV8dAUL5PWdtoho5cqQ7d+5c5ni+3do6pp3Witn+/fub1LPt1lbZ+i0HX26+64qlfylEzvnqCHHDXwgDiBT+fCdAuCBngEhBzgDhgpwBIgU5A4QLcgaIFOQMEC7IGSBSkDNAuCBngEhBzgDhgpwBIgU5A4QLcgaIFOQMEC7IGSBSkDNAuCBngEhBzgDhgpwBIgU5A4QLcgaIFOQMEC7IGSBSkDNAuCBngEhBzgARy5kXnwFtgDZAG6AN0AZKqvwzyCtnAAgT4hcgXJAzQKQgZ4BwQc4AkYKcAcIFOQNECnIGCBfkDBApyBkgXJAzQKQgZ4BwQc4AkYKcAcIFOQNECnIGCBfkDBApyBkgXJAzQKQgZ4BwQc4AkYKcAcIFOQNECnIGCBfkDBApyBkgXJAzQKQgZ4BwQc4AkYKcAcIlWDmfPXvWnTp16lFXA6Da8ijiVzGp2Kwq7t275z766CNXp04d16tXL3ft2rVK71Nu3LjhDh065O7evVvhewFUmpznz5//wMFQCFu2bCl1v+nTp7vhw4e7W7duVcn9AUKjrPhN/qfutWvXdqNGjXLnzp2r8P0Ui4pJxWZV8cMPP7jmzZu7r7/++oHLKm+fsmfPHtesWTN37NixB74nQHRyBoD8FBK/Fy9edCNGjDBB37lzJ5iPdv/+/a59+/ZVOlsHCFbOem/KlCmuVq1a9hozZoy7dOmSHbt9+7abMWOGjdRr1qxpnYE/plG7Ogi9r+t0ns4fO3ZsZoRft25dC0jdX+/7MhcsWGCpLV3bu3fvTHpKUu/SpYubOHGilalzlAZTOgwgZgqN3+QAOB3DPhbFrl27bOZYo0YN16NHD9e9e3crTygm/ff5+oFC4vLo0aOua9eudr8GDRq4ZcuWWUpZZSRn//6+SVTXVq1a2fFGjRq5rVu32j3Uh7Rs2dKNHj3a1a9f/74+RXWfPHmy9Seq22uvvebatm1rg4DkgID+BYKRsxq+ArJPnz7u/Pnz7sqVKxaU48ePtxG5JNqzZ093+vRpu/aNN95wkyZNssCXqHWe1nSUMlK6So0/28w5GUgrVqywAPzxxx/t2lmzZpmgda6uU/CvXr3a7r927VrXokULd+bMmYf3KQJUQwqJX8WqYlaxK/H5GJZMNdDt2LGjW7dunZ3XunVrt3TpUjvvm2++MWGm5VxWP1DeuNS17dq1c3PnzrU+Qmu9ivVNmzaVOXM+cuSIa9y4sZWte2zfvt01bdrUrtGrXr16bubMmXZPlZ3sUzQAULl6dvUpqneTJk2yypn+BYKQs4JJI0yty3gOHz5s7+lr3759M4ElFBga3So4Lly44G7evGnvK7gVzD7oc8n5+vXrVuann35aqg6dOnWyOqSvU0ApsBRgADFTyJqzZqVvv/22xUm2GPbxtm3bNtemTRuLVaHzFV9pOefrB06cOFHuuNT9OnfunJlxe3FqbVjCzSfnhQsXZs7zfYomAsoC6DrVRZOE9DP6PmXlypWZY6pvLjnTv0AQcs4WZP49jVw1Ovaz4WzpK6XJlEpKp6pyydl3Dskyk+8RPFCslDd+NTMcPHhwJtYUrxJRUt56SVgbNmwoFYe55JyvH9B75Y3LbHtNku/lk3NyJpx+L9t1+foU5AzRzpyVivruu+/umzlrpqxR+OXLl123bt3c4sWLM2tbyfWrQmfOSoXt3LkTOUPRUkj87tixw2bEP//8s8WP0tj79u277zrFlOLUz2QLnTmrH9AO6wedOQ8aNMj6jorMnLWWnE/OKlflJ/sU5AzRrTn7dWW/C1RrzpKpjvm1nAkTJthmsA4dOrhPPvnEzjtw4ICtDyXlrA7Dp9NyrTlL7FqfUgeidS5mzlCsFBK/fvas/RqKP8XksGHDLE4VU8uXL3cbN27MDHwLXXNO9wPljcv0mrNiXLGu9e9C15w1UNDPe/fuzStn36eovynPmjNpbah2ck6nvfxO6vLu1taxV1991STqR8kNGza09a/+/fvbS+cKrQ1pHVmbOA4ePFjQbm2CB4qRQgfXmj1rQHz8+PFSMayY0m9R+N+B1oxaglScSpySVkV2a5c3LnPt1i7Pr1Ll262dT84S8rRp0zI7yTXIQM5QlQT7F8IAID+VFb/J34P2ae3kUlUMSODJvwCmwYR+Zezq1auPtF5QPCBngEipDDlr5quMljZ3Sl7r16+3VLFSyDHx3//+N5PV0zP7XzPj7yNAVYGcASKlsmbO6VSxlqNiI52STy6/AVQFyBkgUliWAggX5AwQKcgZIFyQM0CkIGeAcEHOAJGCnAHCBTkDRApyBggX5AwQKcgZIFyQM0CkIGeAcEHOAJGCnAHCBTkDRApyBggX5AwQKcgZIFyQM0CkIGeAcEHOAJGCnAHCBTkDRApyBohYzrz4DGgDtAHaAG2ANlBS5Z9BXjkDQJgQvwDhgpwBIgU5A4QLcgaIFOQMEC7IGSBSkDNAuCBngEhBzgDhgpwBIgU5A4QLcgaIFOQMEC7IGSBSkDNAuCBngEhBzgDhgpwBIgU5A4QLcgaIFOQMEC7IGSBSkDNAuCBngEhBzgDhgpwBIgU5A4QLcgaIFOQMEC7IGSBSYpPzjRs33KFDh9zdu3cLvvbUqVPu7NmzlVIvgGoj5/3797u6detm/c+hmzRpUqlBcO3aNderVy+3ZcuW+44tW7bMtWrVyp0/f77U+zpX1+hagGIhtPjVe7n+03lds337dtesWTN37Nixgu5569YtN3z4cDd9+vSH+CQA1XzmrEBv3759lY1KcwX3lStXXJ8+fdxTTz3l1q1bV+oYcoZiJKT4TUPMQrFT8rDlrNTTgAED3Keffmo/X7hwwbVp0yYTjGfOnHEdOnSw6xSoU6ZMcbVq1bLXjBkz3O3bt+28o0ePuq5du7oaNWq4hg0bum3btt034h87dmymHl9++aXr1q2bW7Jkid1f9RA6x5+va1UGQDEQUvyWR87Juur7li1b2v3r1Klj9582bZr7+OOP7X41a9Z0Y8aMsUG70L3mz5+fGRzMmjXLsmyqX48ePdzp06ftvHPnzrmhQ4dm6v3GG2+QdYN4Zs4KgvHjx9v3e/bscU888YSbPHmy/bxz507Xr18/d/XqVQsszXYvXbpka0IdO3a0Wa/S0u3atXPz5s1zd+7ccZs3b7ZAOnnyZNaR971799ykSZMs4HRO27ZtS0mYUTgUI6HEb0Xl/OSTT7qVK1faGvTXX39t4n/ttdfsGp3zwgsvZAYZaTl7Iavu3bt3t2O+Hxk0aJBJXcf0fCyJQTRyVkD37NnTGrdG05KmAlqjcAWB3lMAS6I616NjCiKNsjt37mzXi2RAZwtuBb2Cf+/evdYZjBo1yu7pQc5QjIQSvxWVc7LeGixIsslyvZCT32e7v6+3nkn9iAYgyWPIGaKRs4L4xRdftEY+ePBgd+DAATdixAi3Y8cON2TIEHtf52vzSXrjR9++fd2GDRuybgpZuHBh1uDSRrAuXbpkUlg61rp168zGMOQMxUgo8fsw5Jyt3ELlrLJUZjLrhpwhug1hSoOpwY8cOdLWsZR+GjdunAWv1q0kTqXB9u3bd1+ZGnlr5K7RcJp0cPmf0x2B1oz8xjDkDMVICPFbneSsQYlm/OlsADNniErOavzapOGD4/Dhw+7pp5+2EbhSz3pNmDDBDRs2zAJdG0mWL1/uNm7caGtB2nSyaNEie1/H33vvPXfixIlMcK1Zs8bKVSpbI3iV79HakdbDlN7WfVQXdSQKPoBiIYT4rU5y9v0Ga84QtZwViM2bNzd5Ch8UGoF7krs9tbtSga/dkundntqNuWDBgsxOUO3I1jXaSakNHNq8os4iiToT7ebUV3UWnTp1cvXq1XMHDx4s/FMCCJDqHr9+01l1kbPQOrkG9Xoe7dbWMzBzhkcBfyEMIFJi+wthVYF2fmsGnRS3fiUr+R5AVYCcASIFOReO352udfbjx4/b7u0VK1ZUwr8OQH6QM0CkIOfCUVpe6XmltWvXrl3qD6sAVCXIGSBSkDNAuCBngEhBzgDhgpwBIgU5A4QLcgaIFOQMEC7IGSBSkDNAuCBngEhBzgDhgpwBIgU5A4QLcgaIFOQMEC7IGSBSkDNAuCBngEhBzgDhgpwBIgU5A4QLcgaIFOQMEC7IGSBSkDNAxHLmxWdAG6AN0AZoA7SBkir/DPLKGQDChPgFCBfkDBApyBkgXJAzQKQgZ4BwQc4AkYKcAcIFOQNECnIGCBfkDBApyBkgXJAzQKQgZ4BwQc4AkYKcAcIFOQNECnIGCBfkDBApyBkgXJAzQKQgZ4BwQc4AkYKcAcIFOQNECnIGCBfkDBApyBkgXJAzQKQgZ4BwqVI5nz171p06darM827cuOEOHTrk7t69+0D3at++vdu/f3+FywAImYrGb3njNFQexvOpX1H/orIeFteuXXO9evVyW7ZscVXJ/Pnz3dixY6v0nlDJclYDHzx4sKtZs6arVauWGzlypDt9+nTO86dPn+6GDx/ubt26lbfcPXv2uGbNmrljx465hyFnNbxc/5m1GmZlUhlBDFAe8sWv2n22eJAYyhunhbT1qhaP7qP76b5pKvp86kd8f/Gw4jpZJnKGhyJnSbh169Zu5syZ1qiuXLli37dr186dP3/ePWpyzZyTwVAVIGeornLOJa+KEoqcKwpyhiDkrOAeMGCApaA9+l7vrVy5MhOMb7zxhqtfv76dn0yf3Lt3z61fv96Oaeb917/+1bVp08aCKhnk+r5t27bu/fffd3Xq1LEZ+owZM9zt27etnF27drlWrVpZXRs2bOi2bdtWkJy//PJL161bN3fp0iX7WXVPBrXOHTdunNX36NGjrmvXrq5GjRql7pWuh74eOHDgvtlJVaeroLipqJyTcaqvQ4cOtUyWvvdxq/Zf3rauGKxbt27m2GuvveYmTZpkcSxu3rzpBg0aVGoG2bt370wZ2WJLqA9YsGCB9QvqQ8aMGWOThGSmTPdN9wHJ59M9unTp4iZOnGh9i8r66KOP7Dk96kuaNGmSKVOf2+7du/P2S3qGKVOm2PvpY7nKPHfunH2dNWuWPaf6mR49ethEKFt/muv5hcoaMWJEJquZvL+O9e/f38rXffQ9ae2I5JxrBqpGoGO+Malx/fDDD/ZzMigOHz5sjXPz5s22tqyAVyPKJud69epZg5X8v/76a9e4cWN7/+TJk9Zp6FqVsXbtWteiRdoqFXcAAA3OSURBVAt35syZcstZ53bq1MkdPHjQ3blzx9JdTz31lNVZnYbS9qqTsgHKCsybN8/OU73VsFWHI0eOWJ1UDx1bunSpCV+BwswZQpdz06ZN3bfffusuX75scdG8eXOLQ8Wc4qE8bT09c9bXfv36uevXr7sTJ064Z555xgStmNM9JEzFZr7YWrFihcXg8ePH7Wddr37Cl1+e59N56ndWr15t5Sf7kLJmzrn6JYldYu7Tp48N+rX817FjR7du3bq8ZSb7TAlZ13bv3t2OZ+tPcz2/nmPUqFFu/PjxVjctD+rfTM+qY3pf4tY16tdUT+QciZz1D67RVjY5+4bvG9OmTZvuOyYWLlyYCcbkSDKbnJMBnwxyjQQvXLiQ2TimBq3RrK4pr5y9kD/99FPrJF5++WX31ltv2QxaAarg0PuaJXfu3Dkzw07WQ8+iMlSWfxZ/b+QMoaw5+9hMy3nu3LmZ6/yAeMmSJda5J2OwEDkrpl544QX7qthTzP3lL38x8egcyUPxlCu2tC+lb9++dq0nKeRC5Jw8L99G0nxp7eTzSXjqh1THbPfMVWa21H+u/lSDmlzPf/XqVfs38X2rBguaVausQuoGkc+cszW09PcVlbNPsTVq1Oi+NFYha84SsVLXauga8e7cudNGnl988YUbMmSINXLdL9sGGnUe2To6pYwkdOQMoc+c0/Gi2ayWoWrXrm0zN6WdRSFy9lmpjRs32j0Uc5MnT7YY1FfFpK9LttjSdSovfUyzfAnoUco5nbL2L8lUUn0QOftj/udcz68lOM2yldZObn7N9nzIuUjXnHPJWeekR8SFynnv3r3WGPft22eiTja8QuSs0brKVGehNWiNOgcOHOjefPPNzLkSbc+ePW1UmkaC1sg0uU7lQc4Qk5wlVcWH2rpmy5988okJWkIodEOY+oBXXnnFMmi6XoLWz5pB+7jNFVt+5pjMzCV51DNnpbHVL5VFReWc7/mV0VDqf/HixZl1Zn8fZs5FuFtbr+Ru7bLkrNG3xFqeNedcQaBgVscguaoRrlq1yj399NMFy9lvQFG6TqlsdQQavWujhU//6Hk7dOjgFi1aZPfSM7733nuWltMGleeee8599tln9ixa45k6daq7ePGi3b9ly5YP9GthANVFzn5A/N1331mcaI02Kedcbd3H7Zo1azLv6fwGDRq4119/3cry4kguH+WLLW2G0rl6T8d0jtak9b36BwlSA4mHKedp06ZZXfP1S5pwTJgwwQ0bNsyeSf3F8uXLbbafr8xC5CxyPb/uqb5KAyfVRZ+h/s1UFmvO4VBpv+dclpzVGLdu3Wq7PnW9UjBKSRe65qw0ut8RqR2X2vggoRb6q1QqR6lsP5NX+do9ngzu5G5tiVvBkWvXuAYbPuC0jv3YY4+V2t0NEKKc1aa1ecrv1taAdvv27XasrLaudWrFqTYkCQlYcvEbpVS2lpc0ME6SK7aSu5UVk4pNxahQP6SNntq0pc2eD0POn3/+ud1LM1b1Mbn6pfRubfVvWkPXLul8ZUqqhcg53/Pr89dnpfe1P0gvvzte9dAOfB3TkuDbb7/NmnM15JH++U4vQqFGrlFzeVJBAFA2/PlOgHB5ZHJWKkZruP7PdOpXMqrLHzABiAHkDBAuj0zOyT9moPSKUsj+jwsAwIODnAHChf+VCiBSkDNAuCBngEhBzgDhgpwBIgU5A4QLcgaIFOQMEC7IGSBSkDNAuCBngEhBzgDhgpwBIgU5A4QLcgaIFOQMEC7IGSBSkDNAuCBngEhBzgARy5kXnwFtgDZAG6AN0AZKqvwzyCtnAAgT4hcgXJAzQKQgZ4BwQc4AkYKcAcIFOQNECnIGCBfkDBApyBkgXJAzQKQgZ4BwQc4AkYKcAcIFOQNECnIGCBfkDBApyBkgXJAzQKQgZ4BwQc4AkYKcAcIFOQNECnIGCBfkDBApyBkgXJAzQKQgZ4BwQc4AkYKcAcKlWsv57t277tChQ+7GjRuPtB7FhD5rfeb67POxZcsW16tXL3ft2rX7jp09e9a1b9/e7d+/vxJrCmVB/BbG6dOnXY8ePVyNGjWsfVe0/QM8Ujnfvn3bLViwwDVo0MDOa9SokVu7dm2ZnXo+1NDV4H1gHDt2zDVr1szt2bPHVRX5gm7s2LE5/1Ps+fPnV0n9VIfKvJc+a33m+uzzgZyrP8RvYUyePNniK9tkQANNDTg18HxYck73d6H3HVBN5LxixQrXrVs3d/LkSftZsy116uvWrQumsWajvEH3qBp6dQkw5Fz9IX4fXmwhZwhGzmrIM2bMKPXe0qVL3bvvvmvfHz161HXt2tVSRA0bNnTbtm3LdOpdunRxEydOdLVq1XJ16tRxH330kdu3b5+rW7duZiaq8pPpUS9ujW5btWpl5SoFtXPnzsx99P6BAwfsPjp/ypQpdg+9VFfN9n05s2bNKlWOUlrJmbHqki8tmw7ke/fuufXr19uz6vpkXfTMbdq0cQMGDHDPPvusPdeuXbtsMOPv371790x52er+008/uSZNmmTqlx5AfPnllzZYunTpkv18/vx517lzZ7d3795S5dWsWdONGTPGXblyJfMcQ4cOtbro+2QnVNYzdejQwb3++uul/h11TTqtnastQOVC/O7Pmu1TW1Uc9O7d2506dSrTJ/jYUpz5GbJQXCazZGr7ufoxtX+h+Fa8pOPGo9hI9nejR4+2/uHTTz+14xcuXLA+w09Uzpw5Y/Gm69LPkYznivQdEJmc1Wjq16/vZs+ebSJIop/btWvn5s2b5+7cueM2b95sDVSzbF2nRrN69Wo7plR4ixYtrPGlZ87Z5DxixAhriJKQhNa0aVP3ww8/WIOdNm2aGz58uH2vBtqnTx87TwHYsWNHm9X7cryQfTlejBWdOUuCjRs3dt98842l9j/44INMOf6ZV65caZ+Nnqt169Y2mNG5ukbLAypPwZ2r7tnu61EwS8Z+CUCDFj2jPisNRHx56edVefoMv/32W3f58uVSci7PM0neOvbFF1/Yubo++e+Wry1A5UL83p/tU9v78ccfLXWtuJCgfawXOnPO1Y8dOXLEYkGxoWOKcw2cvUA96f5O9x4/frx9rzh+4oknbDLi47lfv352jX+O48ePW5mDBg2yZ6lo3wERbghTgx04cKCN3pJrzpoZSRR+FpdshGn5ZRNwPjknU95z5861BufxZavjb9u2bam1ajVKnZutHH/sQeR88+ZNE6QfOSsToDroGVSmhHj16lU7ps9Ho2Kdn/x8VJ5klqvu2e6bRKNkn81QUCtghaSbfJ7k56av+jlbJ1TWMyU/J3VCGhgtXLiw1L9bvrYAlQvx+/+5fv2669u3b2ZmKhRrnTp1ysTag6S1k21eMaBYUEykjyVJx4Lq0bNnT4sVxbHiV0JWDKpeei/bc5Sn3yvr+SDS3dqaqX722WeWstWoTo0l26YpNdqHKedkwxO+bI0ok2kc/1KjVkCWV87JdFbyPtkaenqDXDI9ln7m9M9JOev8XHVXYOYLMM10X3rpJQtSffWdwblz59zIkSNtpJ9+nnR5yU6okGdKlpX8d8vXFqByKfb4TZLt/un3Hpac02lwvbSkk17OSd9fEn7xxRdtljx48GBLhStTuGPHDjdkyBB7P52C9y9lv77//vsK9x0QiZzViNRA1FiS+BmZGqFGgH6mmKQqgltyUjpHM700lTVzVupI91THkg7mdJn63JLrw+mZc666Z7tvEqW4JGWlkLWOrNSdRu+jRo1y77zzTub++UbTyXoX8kz5Zs652gJULsRv2TNnLbn4fuxhzpy1DuwzTrnI1hf5HeMaTCt+tRQ2btw4q7tS5v45Nm3adF95D9J3QCRy9msbWtP0a4f6qp+VitFarjYvLFq0yEblajTvvfeeO3HiRLnkvGbNmgeSs9K4EyZMcMOGDbN7qw7Lly93GzduLJec1cB9yjkX6YauIFLqWvfTPWbOnJnZ/JV+Zt8pZFtzluRy1d3fV2vruQJfZTz++ONu2bJl9rNS01qTmjNnjpXl/53KI+eynkkzcS1lqM651pzztQWoXIjf3GvOaouaTCTXgsuSc8uWLTO/YpivH9OM97nnnrNshOJb10ydOtVdvHixVJnp/s6Xq7jy9Th8+LB7+umnbQbt0+TKZmmpSOWqfN1HfcmtW7ceqO+ASNLaGtV9+OGHmZSnvk6fPj3TWJM7dLWrUA1KjSVfoxZLliyxxqmNERWVs85N71BW41Z6t6xyJBOtQ9WrV88dPHgw5/OnA1kBrtGy7qXn1Qj4+eefzzogERrd+t3iErXSUdl2ayfrLj7//HMr36eq0iiYVa42yXnUWfido1qTUt39mlg+OZf1TOnd2h9//HGZu7WTbQEqF+L3YLl2a3vyyVkx+fLLL7vHHnvMskFl9WPJ3dr6DQVtDssmxWR/JxRbzZs3tyUqf1/dRwPlbM+hmFJsKcYetO+A6kW1/gthMeNHwckAzJaqAqgoxC9AuCDnR4DWmvv37++2b99uaSmNqpUS1q9gADwskDNAuCDnR0Qy7aVfQ+MPc8DDBjkDhAtyBogU5AwQLsgZIFKQM0C4IGeASEHOAOGCnAEiBTkDhAtyBogU5AwQLsgZIFKQM0C4IGeASEHOAOGCnAEiBTkDhAtyBogU5AwQLsgZIFKQM0DEcubFZ0AboA3QBmgDtIGSKv8McsoZAAAAHj3IGQAAoJqBnAEAAKoZyBkAAMBVL/4fBt80dKrigooAAAAASUVORK5CYII=)"
      ],
      "metadata": {
        "id": "aJV4KIxSnxay"
      }
    },
    {
      "cell_type": "markdown",
      "source": [
        "### Check Unique Values for each variable."
      ],
      "metadata": {
        "id": "u3PMJOP6ngxN"
      }
    },
    {
      "cell_type": "code",
      "source": [
        "# Check Unique Values for each variable.\n",
        "for i in df.columns:\n",
        "  print(\"unique value count in\",i,\"is\",df[i].nunique())"
      ],
      "metadata": {
        "id": "zms12Yq5n-jE",
        "colab": {
          "base_uri": "https://localhost:8080/"
        },
        "outputId": "b6bc3ce5-968d-42d3-bca1-08e99cc1b1f3"
      },
      "execution_count": 21,
      "outputs": [
        {
          "output_type": "stream",
          "name": "stdout",
          "text": [
            "unique value count in UserName is 41157\n",
            "unique value count in ScreenName is 41157\n",
            "unique value count in Location is 12220\n",
            "unique value count in TweetAt is 30\n",
            "unique value count in OriginalTweet is 41157\n",
            "unique value count in Sentiment is 5\n"
          ]
        }
      ]
    },
    {
      "cell_type": "code",
      "source": [
        "# Check Unique Values for 'TweetAt'\n",
        "df['TweetAt'].unique()"
      ],
      "metadata": {
        "colab": {
          "base_uri": "https://localhost:8080/"
        },
        "id": "FXdxLMo_xhUt",
        "outputId": "46d9cba1-8fcb-4b63-e8e1-bc40c839985c"
      },
      "execution_count": 23,
      "outputs": [
        {
          "output_type": "execute_result",
          "data": {
            "text/plain": [
              "array(['16-03-2020', '17-03-2020', '18-03-2020', '19-03-2020',\n",
              "       '20-03-2020', '21-03-2020', '22-03-2020', '23-03-2020',\n",
              "       '24-03-2020', '25-03-2020', '26-03-2020', '27-03-2020',\n",
              "       '28-03-2020', '29-03-2020', '30-03-2020', '31-03-2020',\n",
              "       '01-04-2020', '02-04-2020', '03-04-2020', '04-04-2020',\n",
              "       '05-04-2020', '06-04-2020', '07-04-2020', '08-04-2020',\n",
              "       '09-04-2020', '10-04-2020', '11-04-2020', '12-04-2020',\n",
              "       '13-04-2020', '14-04-2020'], dtype=object)"
            ]
          },
          "metadata": {},
          "execution_count": 23
        }
      ]
    },
    {
      "cell_type": "code",
      "source": [
        "# Check Unique Values for 'Sentiment'\n",
        "df['Sentiment'].unique()"
      ],
      "metadata": {
        "colab": {
          "base_uri": "https://localhost:8080/"
        },
        "id": "lCaxPFL6x8ON",
        "outputId": "fcdb891b-b839-43a1-c939-b927c4e6a994"
      },
      "execution_count": 24,
      "outputs": [
        {
          "output_type": "execute_result",
          "data": {
            "text/plain": [
              "array(['Neutral', 'Positive', 'Extremely Negative', 'Negative',\n",
              "       'Extremely Positive'], dtype=object)"
            ]
          },
          "metadata": {},
          "execution_count": 24
        }
      ]
    },
    {
      "cell_type": "markdown",
      "source": [
        "----observation----\n",
        "* By checking unique value for TweetAt column which is tweet date we found out that dataset has 30 days of data. \n",
        "* Target variable ('Sentiment') has 5 different classes. "
      ],
      "metadata": {
        "id": "mmwEPwg9yF9X"
      }
    },
    {
      "cell_type": "markdown",
      "source": [
        "## 3. ***Data Wrangling***"
      ],
      "metadata": {
        "id": "dauF4eBmngu3"
      }
    },
    {
      "cell_type": "markdown",
      "source": [
        "### Data Wrangling Code"
      ],
      "metadata": {
        "id": "bKJF3rekwFvQ"
      }
    },
    {
      "cell_type": "code",
      "source": [
        "# Write your code to make your dataset analysis ready."
      ],
      "metadata": {
        "id": "wk-9a2fpoLcV"
      },
      "execution_count": null,
      "outputs": []
    },
    {
      "cell_type": "markdown",
      "source": [
        "### What all manipulations have you done and insights you found?"
      ],
      "metadata": {
        "id": "MSa1f5Uengrz"
      }
    },
    {
      "cell_type": "markdown",
      "source": [
        "Answer Here."
      ],
      "metadata": {
        "id": "LbyXE7I1olp8"
      }
    },
    {
      "cell_type": "markdown",
      "source": [
        "## ***4. Data Vizualization, Storytelling & Experimenting with charts : Understand the relationships between variables***"
      ],
      "metadata": {
        "id": "GF8Ens_Soomf"
      }
    },
    {
      "cell_type": "markdown",
      "source": [
        "#### Chart - 1"
      ],
      "metadata": {
        "id": "0wOQAZs5pc--"
      }
    },
    {
      "cell_type": "code",
      "source": [
        "# Chart - 1 visualization code"
      ],
      "metadata": {
        "id": "7v_ESjsspbW7"
      },
      "execution_count": null,
      "outputs": []
    },
    {
      "cell_type": "markdown",
      "source": [
        "##### 1. Why did you pick the specific chart?"
      ],
      "metadata": {
        "id": "K5QZ13OEpz2H"
      }
    },
    {
      "cell_type": "markdown",
      "source": [
        "Answer Here."
      ],
      "metadata": {
        "id": "XESiWehPqBRc"
      }
    },
    {
      "cell_type": "markdown",
      "source": [
        "##### 2. What is/are the insight(s) found from the chart?"
      ],
      "metadata": {
        "id": "lQ7QKXXCp7Bj"
      }
    },
    {
      "cell_type": "markdown",
      "source": [
        "Answer Here"
      ],
      "metadata": {
        "id": "C_j1G7yiqdRP"
      }
    },
    {
      "cell_type": "markdown",
      "source": [
        "##### 3. Will the gained insights help creating a positive business impact? \n",
        "Are there any insights that lead to negative growth? Justify with specific reason."
      ],
      "metadata": {
        "id": "448CDAPjqfQr"
      }
    },
    {
      "cell_type": "markdown",
      "source": [
        "Answer Here"
      ],
      "metadata": {
        "id": "3cspy4FjqxJW"
      }
    },
    {
      "cell_type": "markdown",
      "source": [
        "#### Chart - 2"
      ],
      "metadata": {
        "id": "KSlN3yHqYklG"
      }
    },
    {
      "cell_type": "code",
      "source": [
        "# Chart - 2 visualization code"
      ],
      "metadata": {
        "id": "R4YgtaqtYklH"
      },
      "execution_count": null,
      "outputs": []
    },
    {
      "cell_type": "markdown",
      "source": [
        "##### 1. Why did you pick the specific chart?"
      ],
      "metadata": {
        "id": "t6dVpIINYklI"
      }
    },
    {
      "cell_type": "markdown",
      "source": [
        "Answer Here."
      ],
      "metadata": {
        "id": "5aaW0BYyYklI"
      }
    },
    {
      "cell_type": "markdown",
      "source": [
        "##### 2. What is/are the insight(s) found from the chart?"
      ],
      "metadata": {
        "id": "ijmpgYnKYklI"
      }
    },
    {
      "cell_type": "markdown",
      "source": [
        "Answer Here"
      ],
      "metadata": {
        "id": "PSx9atu2YklI"
      }
    },
    {
      "cell_type": "markdown",
      "source": [
        "##### 3. Will the gained insights help creating a positive business impact? \n",
        "Are there any insights that lead to negative growth? Justify with specific reason."
      ],
      "metadata": {
        "id": "-JiQyfWJYklI"
      }
    },
    {
      "cell_type": "markdown",
      "source": [
        "Answer Here"
      ],
      "metadata": {
        "id": "BcBbebzrYklV"
      }
    },
    {
      "cell_type": "markdown",
      "source": [
        "#### Chart - 3"
      ],
      "metadata": {
        "id": "EM7whBJCYoAo"
      }
    },
    {
      "cell_type": "code",
      "source": [
        "# Chart - 3 visualization code"
      ],
      "metadata": {
        "id": "t6GMdE67YoAp"
      },
      "execution_count": null,
      "outputs": []
    },
    {
      "cell_type": "markdown",
      "source": [
        "##### 1. Why did you pick the specific chart?"
      ],
      "metadata": {
        "id": "fge-S5ZAYoAp"
      }
    },
    {
      "cell_type": "markdown",
      "source": [
        "Answer Here."
      ],
      "metadata": {
        "id": "5dBItgRVYoAp"
      }
    },
    {
      "cell_type": "markdown",
      "source": [
        "##### 2. What is/are the insight(s) found from the chart?"
      ],
      "metadata": {
        "id": "85gYPyotYoAp"
      }
    },
    {
      "cell_type": "markdown",
      "source": [
        "Answer Here"
      ],
      "metadata": {
        "id": "4jstXR6OYoAp"
      }
    },
    {
      "cell_type": "markdown",
      "source": [
        "##### 3. Will the gained insights help creating a positive business impact? \n",
        "Are there any insights that lead to negative growth? Justify with specific reason."
      ],
      "metadata": {
        "id": "RoGjAbkUYoAp"
      }
    },
    {
      "cell_type": "markdown",
      "source": [
        "Answer Here"
      ],
      "metadata": {
        "id": "zfJ8IqMcYoAp"
      }
    },
    {
      "cell_type": "markdown",
      "source": [
        "#### Chart - 4"
      ],
      "metadata": {
        "id": "4Of9eVA-YrdM"
      }
    },
    {
      "cell_type": "code",
      "source": [
        "# Chart - 4 visualization code"
      ],
      "metadata": {
        "id": "irlUoxc8YrdO"
      },
      "execution_count": null,
      "outputs": []
    },
    {
      "cell_type": "markdown",
      "source": [
        "##### 1. Why did you pick the specific chart?"
      ],
      "metadata": {
        "id": "iky9q4vBYrdO"
      }
    },
    {
      "cell_type": "markdown",
      "source": [
        "Answer Here."
      ],
      "metadata": {
        "id": "aJRCwT6DYrdO"
      }
    },
    {
      "cell_type": "markdown",
      "source": [
        "##### 2. What is/are the insight(s) found from the chart?"
      ],
      "metadata": {
        "id": "F6T5p64dYrdO"
      }
    },
    {
      "cell_type": "markdown",
      "source": [
        "Answer Here"
      ],
      "metadata": {
        "id": "Xx8WAJvtYrdO"
      }
    },
    {
      "cell_type": "markdown",
      "source": [
        "##### 3. Will the gained insights help creating a positive business impact? \n",
        "Are there any insights that lead to negative growth? Justify with specific reason."
      ],
      "metadata": {
        "id": "y-Ehk30pYrdP"
      }
    },
    {
      "cell_type": "markdown",
      "source": [
        "Answer Here"
      ],
      "metadata": {
        "id": "jLNxxz7MYrdP"
      }
    },
    {
      "cell_type": "markdown",
      "source": [
        "#### Chart - 5"
      ],
      "metadata": {
        "id": "bamQiAODYuh1"
      }
    },
    {
      "cell_type": "code",
      "source": [
        "# Chart - 5 visualization code"
      ],
      "metadata": {
        "id": "TIJwrbroYuh3"
      },
      "execution_count": null,
      "outputs": []
    },
    {
      "cell_type": "markdown",
      "source": [
        "##### 1. Why did you pick the specific chart?"
      ],
      "metadata": {
        "id": "QHF8YVU7Yuh3"
      }
    },
    {
      "cell_type": "markdown",
      "source": [
        "Answer Here."
      ],
      "metadata": {
        "id": "dcxuIMRPYuh3"
      }
    },
    {
      "cell_type": "markdown",
      "source": [
        "##### 2. What is/are the insight(s) found from the chart?"
      ],
      "metadata": {
        "id": "GwzvFGzlYuh3"
      }
    },
    {
      "cell_type": "markdown",
      "source": [
        "Answer Here"
      ],
      "metadata": {
        "id": "uyqkiB8YYuh3"
      }
    },
    {
      "cell_type": "markdown",
      "source": [
        "##### 3. Will the gained insights help creating a positive business impact? \n",
        "Are there any insights that lead to negative growth? Justify with specific reason."
      ],
      "metadata": {
        "id": "qYpmQ266Yuh3"
      }
    },
    {
      "cell_type": "markdown",
      "source": [
        "Answer Here"
      ],
      "metadata": {
        "id": "_WtzZ_hCYuh4"
      }
    },
    {
      "cell_type": "markdown",
      "source": [
        "#### Chart - 6"
      ],
      "metadata": {
        "id": "OH-pJp9IphqM"
      }
    },
    {
      "cell_type": "code",
      "source": [
        "# Chart - 6 visualization code"
      ],
      "metadata": {
        "id": "kuRf4wtuphqN"
      },
      "execution_count": null,
      "outputs": []
    },
    {
      "cell_type": "markdown",
      "source": [
        "##### 1. Why did you pick the specific chart?"
      ],
      "metadata": {
        "id": "bbFf2-_FphqN"
      }
    },
    {
      "cell_type": "markdown",
      "source": [
        "Answer Here."
      ],
      "metadata": {
        "id": "loh7H2nzphqN"
      }
    },
    {
      "cell_type": "markdown",
      "source": [
        "##### 2. What is/are the insight(s) found from the chart?"
      ],
      "metadata": {
        "id": "_ouA3fa0phqN"
      }
    },
    {
      "cell_type": "markdown",
      "source": [
        "Answer Here"
      ],
      "metadata": {
        "id": "VECbqPI7phqN"
      }
    },
    {
      "cell_type": "markdown",
      "source": [
        "##### 3. Will the gained insights help creating a positive business impact? \n",
        "Are there any insights that lead to negative growth? Justify with specific reason."
      ],
      "metadata": {
        "id": "Seke61FWphqN"
      }
    },
    {
      "cell_type": "markdown",
      "source": [
        "Answer Here"
      ],
      "metadata": {
        "id": "DW4_bGpfphqN"
      }
    },
    {
      "cell_type": "markdown",
      "source": [
        "#### Chart - 7"
      ],
      "metadata": {
        "id": "PIIx-8_IphqN"
      }
    },
    {
      "cell_type": "code",
      "source": [
        "# Chart - 7 visualization code"
      ],
      "metadata": {
        "id": "lqAIGUfyphqO"
      },
      "execution_count": null,
      "outputs": []
    },
    {
      "cell_type": "markdown",
      "source": [
        "##### 1. Why did you pick the specific chart?"
      ],
      "metadata": {
        "id": "t27r6nlMphqO"
      }
    },
    {
      "cell_type": "markdown",
      "source": [
        "Answer Here."
      ],
      "metadata": {
        "id": "iv6ro40sphqO"
      }
    },
    {
      "cell_type": "markdown",
      "source": [
        "##### 2. What is/are the insight(s) found from the chart?"
      ],
      "metadata": {
        "id": "r2jJGEOYphqO"
      }
    },
    {
      "cell_type": "markdown",
      "source": [
        "Answer Here"
      ],
      "metadata": {
        "id": "Po6ZPi4hphqO"
      }
    },
    {
      "cell_type": "markdown",
      "source": [
        "##### 3. Will the gained insights help creating a positive business impact? \n",
        "Are there any insights that lead to negative growth? Justify with specific reason."
      ],
      "metadata": {
        "id": "b0JNsNcRphqO"
      }
    },
    {
      "cell_type": "markdown",
      "source": [
        "Answer Here"
      ],
      "metadata": {
        "id": "xvSq8iUTphqO"
      }
    },
    {
      "cell_type": "markdown",
      "source": [
        "#### Chart - 8"
      ],
      "metadata": {
        "id": "BZR9WyysphqO"
      }
    },
    {
      "cell_type": "code",
      "source": [
        "# Chart - 8 visualization code"
      ],
      "metadata": {
        "id": "TdPTWpAVphqO"
      },
      "execution_count": null,
      "outputs": []
    },
    {
      "cell_type": "markdown",
      "source": [
        "##### 1. Why did you pick the specific chart?"
      ],
      "metadata": {
        "id": "jj7wYXLtphqO"
      }
    },
    {
      "cell_type": "markdown",
      "source": [
        "Answer Here."
      ],
      "metadata": {
        "id": "Ob8u6rCTphqO"
      }
    },
    {
      "cell_type": "markdown",
      "source": [
        "##### 2. What is/are the insight(s) found from the chart?"
      ],
      "metadata": {
        "id": "eZrbJ2SmphqO"
      }
    },
    {
      "cell_type": "markdown",
      "source": [
        "Answer Here"
      ],
      "metadata": {
        "id": "mZtgC_hjphqO"
      }
    },
    {
      "cell_type": "markdown",
      "source": [
        "##### 3. Will the gained insights help creating a positive business impact? \n",
        "Are there any insights that lead to negative growth? Justify with specific reason."
      ],
      "metadata": {
        "id": "rFu4xreNphqO"
      }
    },
    {
      "cell_type": "markdown",
      "source": [
        "Answer Here"
      ],
      "metadata": {
        "id": "ey_0qi68phqO"
      }
    },
    {
      "cell_type": "markdown",
      "source": [
        "#### Chart - 9"
      ],
      "metadata": {
        "id": "YJ55k-q6phqO"
      }
    },
    {
      "cell_type": "code",
      "source": [
        "# Chart - 9 visualization code"
      ],
      "metadata": {
        "id": "B2aS4O1ophqO"
      },
      "execution_count": null,
      "outputs": []
    },
    {
      "cell_type": "markdown",
      "source": [
        "##### 1. Why did you pick the specific chart?"
      ],
      "metadata": {
        "id": "gCFgpxoyphqP"
      }
    },
    {
      "cell_type": "markdown",
      "source": [
        "Answer Here."
      ],
      "metadata": {
        "id": "TVxDimi2phqP"
      }
    },
    {
      "cell_type": "markdown",
      "source": [
        "##### 2. What is/are the insight(s) found from the chart?"
      ],
      "metadata": {
        "id": "OVtJsKN_phqQ"
      }
    },
    {
      "cell_type": "markdown",
      "source": [
        "Answer Here"
      ],
      "metadata": {
        "id": "ngGi97qjphqQ"
      }
    },
    {
      "cell_type": "markdown",
      "source": [
        "##### 3. Will the gained insights help creating a positive business impact? \n",
        "Are there any insights that lead to negative growth? Justify with specific reason."
      ],
      "metadata": {
        "id": "lssrdh5qphqQ"
      }
    },
    {
      "cell_type": "markdown",
      "source": [
        "Answer Here"
      ],
      "metadata": {
        "id": "tBpY5ekJphqQ"
      }
    },
    {
      "cell_type": "markdown",
      "source": [
        "#### Chart - 10"
      ],
      "metadata": {
        "id": "U2RJ9gkRphqQ"
      }
    },
    {
      "cell_type": "code",
      "source": [
        "# Chart - 10 visualization code"
      ],
      "metadata": {
        "id": "GM7a4YP4phqQ"
      },
      "execution_count": null,
      "outputs": []
    },
    {
      "cell_type": "markdown",
      "source": [
        "##### 1. Why did you pick the specific chart?"
      ],
      "metadata": {
        "id": "1M8mcRywphqQ"
      }
    },
    {
      "cell_type": "markdown",
      "source": [
        "Answer Here."
      ],
      "metadata": {
        "id": "8agQvks0phqQ"
      }
    },
    {
      "cell_type": "markdown",
      "source": [
        "##### 2. What is/are the insight(s) found from the chart?"
      ],
      "metadata": {
        "id": "tgIPom80phqQ"
      }
    },
    {
      "cell_type": "markdown",
      "source": [
        "Answer Here"
      ],
      "metadata": {
        "id": "Qp13pnNzphqQ"
      }
    },
    {
      "cell_type": "markdown",
      "source": [
        "##### 3. Will the gained insights help creating a positive business impact? \n",
        "Are there any insights that lead to negative growth? Justify with specific reason."
      ],
      "metadata": {
        "id": "JMzcOPDDphqR"
      }
    },
    {
      "cell_type": "markdown",
      "source": [
        "Answer Here"
      ],
      "metadata": {
        "id": "R4Ka1PC2phqR"
      }
    },
    {
      "cell_type": "markdown",
      "source": [
        "#### Chart - 11"
      ],
      "metadata": {
        "id": "x-EpHcCOp1ci"
      }
    },
    {
      "cell_type": "code",
      "source": [
        "# Chart - 11 visualization code"
      ],
      "metadata": {
        "id": "mAQTIvtqp1cj"
      },
      "execution_count": null,
      "outputs": []
    },
    {
      "cell_type": "markdown",
      "source": [
        "##### 1. Why did you pick the specific chart?"
      ],
      "metadata": {
        "id": "X_VqEhTip1ck"
      }
    },
    {
      "cell_type": "markdown",
      "source": [
        "Answer Here."
      ],
      "metadata": {
        "id": "-vsMzt_np1ck"
      }
    },
    {
      "cell_type": "markdown",
      "source": [
        "##### 2. What is/are the insight(s) found from the chart?"
      ],
      "metadata": {
        "id": "8zGJKyg5p1ck"
      }
    },
    {
      "cell_type": "markdown",
      "source": [
        "Answer Here"
      ],
      "metadata": {
        "id": "ZYdMsrqVp1ck"
      }
    },
    {
      "cell_type": "markdown",
      "source": [
        "##### 3. Will the gained insights help creating a positive business impact? \n",
        "Are there any insights that lead to negative growth? Justify with specific reason."
      ],
      "metadata": {
        "id": "PVzmfK_Ep1ck"
      }
    },
    {
      "cell_type": "markdown",
      "source": [
        "Answer Here"
      ],
      "metadata": {
        "id": "druuKYZpp1ck"
      }
    },
    {
      "cell_type": "markdown",
      "source": [
        "#### Chart - 12"
      ],
      "metadata": {
        "id": "n3dbpmDWp1ck"
      }
    },
    {
      "cell_type": "code",
      "source": [
        "# Chart - 12 visualization code"
      ],
      "metadata": {
        "id": "bwevp1tKp1ck"
      },
      "execution_count": null,
      "outputs": []
    },
    {
      "cell_type": "markdown",
      "source": [
        "##### 1. Why did you pick the specific chart?"
      ],
      "metadata": {
        "id": "ylSl6qgtp1ck"
      }
    },
    {
      "cell_type": "markdown",
      "source": [
        "Answer Here."
      ],
      "metadata": {
        "id": "m2xqNkiQp1ck"
      }
    },
    {
      "cell_type": "markdown",
      "source": [
        "##### 2. What is/are the insight(s) found from the chart?"
      ],
      "metadata": {
        "id": "ZWILFDl5p1ck"
      }
    },
    {
      "cell_type": "markdown",
      "source": [
        "Answer Here"
      ],
      "metadata": {
        "id": "x-lUsV2mp1ck"
      }
    },
    {
      "cell_type": "markdown",
      "source": [
        "##### 3. Will the gained insights help creating a positive business impact? \n",
        "Are there any insights that lead to negative growth? Justify with specific reason."
      ],
      "metadata": {
        "id": "M7G43BXep1ck"
      }
    },
    {
      "cell_type": "markdown",
      "source": [
        "Answer Here"
      ],
      "metadata": {
        "id": "5wwDJXsLp1cl"
      }
    },
    {
      "cell_type": "markdown",
      "source": [
        "#### Chart - 13"
      ],
      "metadata": {
        "id": "Ag9LCva-p1cl"
      }
    },
    {
      "cell_type": "code",
      "source": [
        "# Chart - 13 visualization code"
      ],
      "metadata": {
        "id": "EUfxeq9-p1cl"
      },
      "execution_count": null,
      "outputs": []
    },
    {
      "cell_type": "markdown",
      "source": [
        "##### 1. Why did you pick the specific chart?"
      ],
      "metadata": {
        "id": "E6MkPsBcp1cl"
      }
    },
    {
      "cell_type": "markdown",
      "source": [
        "Answer Here."
      ],
      "metadata": {
        "id": "V22bRsFWp1cl"
      }
    },
    {
      "cell_type": "markdown",
      "source": [
        "##### 2. What is/are the insight(s) found from the chart?"
      ],
      "metadata": {
        "id": "2cELzS2fp1cl"
      }
    },
    {
      "cell_type": "markdown",
      "source": [
        "Answer Here"
      ],
      "metadata": {
        "id": "ozQPc2_Ip1cl"
      }
    },
    {
      "cell_type": "markdown",
      "source": [
        "##### 3. Will the gained insights help creating a positive business impact? \n",
        "Are there any insights that lead to negative growth? Justify with specific reason."
      ],
      "metadata": {
        "id": "3MPXvC8up1cl"
      }
    },
    {
      "cell_type": "markdown",
      "source": [
        "Answer Here"
      ],
      "metadata": {
        "id": "GL8l1tdLp1cl"
      }
    },
    {
      "cell_type": "markdown",
      "source": [
        "#### Chart - 14 - Correlation Heatmap"
      ],
      "metadata": {
        "id": "NC_X3p0fY2L0"
      }
    },
    {
      "cell_type": "code",
      "source": [
        "# Correlation Heatmap visualization code"
      ],
      "metadata": {
        "id": "xyC9zolEZNRQ"
      },
      "execution_count": null,
      "outputs": []
    },
    {
      "cell_type": "markdown",
      "source": [
        "##### 1. Why did you pick the specific chart?"
      ],
      "metadata": {
        "id": "UV0SzAkaZNRQ"
      }
    },
    {
      "cell_type": "markdown",
      "source": [
        "Answer Here."
      ],
      "metadata": {
        "id": "DVPuT8LYZNRQ"
      }
    },
    {
      "cell_type": "markdown",
      "source": [
        "##### 2. What is/are the insight(s) found from the chart?"
      ],
      "metadata": {
        "id": "YPEH6qLeZNRQ"
      }
    },
    {
      "cell_type": "markdown",
      "source": [
        "Answer Here"
      ],
      "metadata": {
        "id": "bfSqtnDqZNRR"
      }
    },
    {
      "cell_type": "markdown",
      "source": [
        "#### Chart - 15 - Pair Plot "
      ],
      "metadata": {
        "id": "q29F0dvdveiT"
      }
    },
    {
      "cell_type": "code",
      "source": [
        "# Pair Plot visualization code"
      ],
      "metadata": {
        "id": "o58-TEIhveiU"
      },
      "execution_count": null,
      "outputs": []
    },
    {
      "cell_type": "markdown",
      "source": [
        "##### 1. Why did you pick the specific chart?"
      ],
      "metadata": {
        "id": "EXh0U9oCveiU"
      }
    },
    {
      "cell_type": "markdown",
      "source": [
        "Answer Here."
      ],
      "metadata": {
        "id": "eMmPjTByveiU"
      }
    },
    {
      "cell_type": "markdown",
      "source": [
        "##### 2. What is/are the insight(s) found from the chart?"
      ],
      "metadata": {
        "id": "22aHeOlLveiV"
      }
    },
    {
      "cell_type": "markdown",
      "source": [
        "Answer Here"
      ],
      "metadata": {
        "id": "uPQ8RGwHveiV"
      }
    },
    {
      "cell_type": "markdown",
      "source": [
        "## ***5. Hypothesis Testing***"
      ],
      "metadata": {
        "id": "g-ATYxFrGrvw"
      }
    },
    {
      "cell_type": "markdown",
      "source": [
        "### Based on your chart experiments, define three hypothetical statements from the dataset. In the next three questions, perform hypothesis testing to obtain final conclusion about the statements through your code and statistical testing."
      ],
      "metadata": {
        "id": "Yfr_Vlr8HBkt"
      }
    },
    {
      "cell_type": "markdown",
      "source": [
        "Answer Here."
      ],
      "metadata": {
        "id": "-7MS06SUHkB-"
      }
    },
    {
      "cell_type": "markdown",
      "source": [
        "### Hypothetical Statement - 1"
      ],
      "metadata": {
        "id": "8yEUt7NnHlrM"
      }
    },
    {
      "cell_type": "markdown",
      "source": [
        "#### 1. State Your research hypothesis as a null hypothesis and alternate hypothesis."
      ],
      "metadata": {
        "id": "tEA2Xm5dHt1r"
      }
    },
    {
      "cell_type": "markdown",
      "source": [
        "Answer Here."
      ],
      "metadata": {
        "id": "HI9ZP0laH0D-"
      }
    },
    {
      "cell_type": "markdown",
      "source": [
        "#### 2. Perform an appropriate statistical test."
      ],
      "metadata": {
        "id": "I79__PHVH19G"
      }
    },
    {
      "cell_type": "code",
      "source": [
        "# Perform Statistical Test to obtain P-Value"
      ],
      "metadata": {
        "id": "oZrfquKtyian"
      },
      "execution_count": null,
      "outputs": []
    },
    {
      "cell_type": "markdown",
      "source": [
        "##### Which statistical test have you done to obtain P-Value?"
      ],
      "metadata": {
        "id": "Ou-I18pAyIpj"
      }
    },
    {
      "cell_type": "markdown",
      "source": [
        "Answer Here."
      ],
      "metadata": {
        "id": "s2U0kk00ygSB"
      }
    },
    {
      "cell_type": "markdown",
      "source": [
        "##### Why did you choose the specific statistical test?"
      ],
      "metadata": {
        "id": "fF3858GYyt-u"
      }
    },
    {
      "cell_type": "markdown",
      "source": [
        "Answer Here."
      ],
      "metadata": {
        "id": "HO4K0gP5y3B4"
      }
    },
    {
      "cell_type": "markdown",
      "source": [
        "### Hypothetical Statement - 2"
      ],
      "metadata": {
        "id": "4_0_7-oCpUZd"
      }
    },
    {
      "cell_type": "markdown",
      "source": [
        "#### 1. State Your research hypothesis as a null hypothesis and alternate hypothesis."
      ],
      "metadata": {
        "id": "hwyV_J3ipUZe"
      }
    },
    {
      "cell_type": "markdown",
      "source": [
        "Answer Here."
      ],
      "metadata": {
        "id": "FnpLGJ-4pUZe"
      }
    },
    {
      "cell_type": "markdown",
      "source": [
        "#### 2. Perform an appropriate statistical test."
      ],
      "metadata": {
        "id": "3yB-zSqbpUZe"
      }
    },
    {
      "cell_type": "code",
      "source": [
        "# Perform Statistical Test to obtain P-Value"
      ],
      "metadata": {
        "id": "sWxdNTXNpUZe"
      },
      "execution_count": null,
      "outputs": []
    },
    {
      "cell_type": "markdown",
      "source": [
        "##### Which statistical test have you done to obtain P-Value?"
      ],
      "metadata": {
        "id": "dEUvejAfpUZe"
      }
    },
    {
      "cell_type": "markdown",
      "source": [
        "Answer Here."
      ],
      "metadata": {
        "id": "oLDrPz7HpUZf"
      }
    },
    {
      "cell_type": "markdown",
      "source": [
        "##### Why did you choose the specific statistical test?"
      ],
      "metadata": {
        "id": "Fd15vwWVpUZf"
      }
    },
    {
      "cell_type": "markdown",
      "source": [
        "Answer Here."
      ],
      "metadata": {
        "id": "4xOGYyiBpUZf"
      }
    },
    {
      "cell_type": "markdown",
      "source": [
        "### Hypothetical Statement - 3"
      ],
      "metadata": {
        "id": "bn_IUdTipZyH"
      }
    },
    {
      "cell_type": "markdown",
      "source": [
        "#### 1. State Your research hypothesis as a null hypothesis and alternate hypothesis."
      ],
      "metadata": {
        "id": "49K5P_iCpZyH"
      }
    },
    {
      "cell_type": "markdown",
      "source": [
        "Answer Here."
      ],
      "metadata": {
        "id": "7gWI5rT9pZyH"
      }
    },
    {
      "cell_type": "markdown",
      "source": [
        "#### 2. Perform an appropriate statistical test."
      ],
      "metadata": {
        "id": "Nff-vKELpZyI"
      }
    },
    {
      "cell_type": "code",
      "source": [
        "# Perform Statistical Test to obtain P-Value"
      ],
      "metadata": {
        "id": "s6AnJQjtpZyI"
      },
      "execution_count": null,
      "outputs": []
    },
    {
      "cell_type": "markdown",
      "source": [
        "##### Which statistical test have you done to obtain P-Value?"
      ],
      "metadata": {
        "id": "kLW572S8pZyI"
      }
    },
    {
      "cell_type": "markdown",
      "source": [
        "Answer Here."
      ],
      "metadata": {
        "id": "ytWJ8v15pZyI"
      }
    },
    {
      "cell_type": "markdown",
      "source": [
        "##### Why did you choose the specific statistical test?"
      ],
      "metadata": {
        "id": "dWbDXHzopZyI"
      }
    },
    {
      "cell_type": "markdown",
      "source": [
        "Answer Here."
      ],
      "metadata": {
        "id": "M99G98V6pZyI"
      }
    },
    {
      "cell_type": "markdown",
      "source": [
        "## ***6. Feature Engineering & Data Pre-processing***"
      ],
      "metadata": {
        "id": "yLjJCtPM0KBk"
      }
    },
    {
      "cell_type": "markdown",
      "source": [
        "### 1. Handling Missing Values"
      ],
      "metadata": {
        "id": "xiyOF9F70UgQ"
      }
    },
    {
      "cell_type": "code",
      "source": [
        "# Handling Missing Values & Missing Value Imputation"
      ],
      "metadata": {
        "id": "iRsAHk1K0fpS"
      },
      "execution_count": null,
      "outputs": []
    },
    {
      "cell_type": "markdown",
      "source": [
        "#### What all missing value imputation techniques have you used and why did you use those techniques?"
      ],
      "metadata": {
        "id": "7wuGOrhz0itI"
      }
    },
    {
      "cell_type": "markdown",
      "source": [
        "Answer Here."
      ],
      "metadata": {
        "id": "1ixusLtI0pqI"
      }
    },
    {
      "cell_type": "markdown",
      "source": [
        "### 2. Handling Outliers"
      ],
      "metadata": {
        "id": "id1riN9m0vUs"
      }
    },
    {
      "cell_type": "code",
      "source": [
        "# Handling Outliers & Outlier treatments"
      ],
      "metadata": {
        "id": "M6w2CzZf04JK"
      },
      "execution_count": null,
      "outputs": []
    },
    {
      "cell_type": "markdown",
      "source": [
        "##### What all outlier treatment techniques have you used and why did you use those techniques?"
      ],
      "metadata": {
        "id": "578E2V7j08f6"
      }
    },
    {
      "cell_type": "markdown",
      "source": [
        "Answer Here."
      ],
      "metadata": {
        "id": "uGZz5OrT1HH-"
      }
    },
    {
      "cell_type": "markdown",
      "source": [
        "### 3. Categorical Encoding"
      ],
      "metadata": {
        "id": "89xtkJwZ18nB"
      }
    },
    {
      "cell_type": "code",
      "source": [
        "# Encode your categorical columns"
      ],
      "metadata": {
        "id": "21JmIYMG2hEo"
      },
      "execution_count": null,
      "outputs": []
    },
    {
      "cell_type": "markdown",
      "source": [
        "#### What all categorical encoding techniques have you used & why did you use those techniques?"
      ],
      "metadata": {
        "id": "67NQN5KX2AMe"
      }
    },
    {
      "cell_type": "markdown",
      "source": [
        "Answer Here."
      ],
      "metadata": {
        "id": "UDaue5h32n_G"
      }
    },
    {
      "cell_type": "markdown",
      "source": [
        "### 4. Textual Data Preprocessing \n",
        "(It's mandatory for textual dataset i.e., NLP, Sentiment Analysis, Text Clustering etc.)"
      ],
      "metadata": {
        "id": "Iwf50b-R2tYG"
      }
    },
    {
      "cell_type": "markdown",
      "source": [
        "#### 1. Expand Contraction"
      ],
      "metadata": {
        "id": "GMQiZwjn3iu7"
      }
    },
    {
      "cell_type": "code",
      "source": [
        "# Expand Contraction"
      ],
      "metadata": {
        "id": "PTouz10C3oNN"
      },
      "execution_count": null,
      "outputs": []
    },
    {
      "cell_type": "markdown",
      "source": [
        "#### 2. Lower Casing"
      ],
      "metadata": {
        "id": "WVIkgGqN3qsr"
      }
    },
    {
      "cell_type": "code",
      "source": [
        "# Lower Casing"
      ],
      "metadata": {
        "id": "88JnJ1jN3w7j"
      },
      "execution_count": null,
      "outputs": []
    },
    {
      "cell_type": "markdown",
      "source": [
        "#### 3. Removing Punctuations"
      ],
      "metadata": {
        "id": "XkPnILGE3zoT"
      }
    },
    {
      "cell_type": "code",
      "source": [
        "# Remove Punctuations"
      ],
      "metadata": {
        "id": "vqbBqNaA33c0"
      },
      "execution_count": null,
      "outputs": []
    },
    {
      "cell_type": "markdown",
      "source": [
        "#### 4. Removing URLs & Removing words and digits contain digits."
      ],
      "metadata": {
        "id": "Hlsf0x5436Go"
      }
    },
    {
      "cell_type": "code",
      "source": [
        "# Remove URLs & Remove words and digits contain digits"
      ],
      "metadata": {
        "id": "2sxKgKxu4Ip3"
      },
      "execution_count": null,
      "outputs": []
    },
    {
      "cell_type": "markdown",
      "source": [
        "#### 5. Removing Stopwords & Removing White spaces"
      ],
      "metadata": {
        "id": "mT9DMSJo4nBL"
      }
    },
    {
      "cell_type": "code",
      "source": [
        "# Remove Stopwords"
      ],
      "metadata": {
        "id": "T2LSJh154s8W"
      },
      "execution_count": null,
      "outputs": []
    },
    {
      "cell_type": "code",
      "source": [
        "# Remove White spaces"
      ],
      "metadata": {
        "id": "EgLJGffy4vm0"
      },
      "execution_count": null,
      "outputs": []
    },
    {
      "cell_type": "markdown",
      "source": [
        "#### 6. Rephrase Text"
      ],
      "metadata": {
        "id": "c49ITxTc407N"
      }
    },
    {
      "cell_type": "code",
      "source": [
        "# Rephrase Text"
      ],
      "metadata": {
        "id": "foqY80Qu48N2"
      },
      "execution_count": null,
      "outputs": []
    },
    {
      "cell_type": "markdown",
      "source": [
        "#### 7. Tokenization"
      ],
      "metadata": {
        "id": "OeJFEK0N496M"
      }
    },
    {
      "cell_type": "code",
      "source": [
        "# Tokenization"
      ],
      "metadata": {
        "id": "ijx1rUOS5CUU"
      },
      "execution_count": null,
      "outputs": []
    },
    {
      "cell_type": "markdown",
      "source": [
        "#### 8. Text Normalization"
      ],
      "metadata": {
        "id": "9ExmJH0g5HBk"
      }
    },
    {
      "cell_type": "code",
      "source": [
        "# Normalizing Text (i.e., Stemming, Lemmatization etc.)"
      ],
      "metadata": {
        "id": "AIJ1a-Zc5PY8"
      },
      "execution_count": null,
      "outputs": []
    },
    {
      "cell_type": "markdown",
      "source": [
        "##### Which text normalization technique have you used and why?"
      ],
      "metadata": {
        "id": "cJNqERVU536h"
      }
    },
    {
      "cell_type": "markdown",
      "source": [
        "Answer Here."
      ],
      "metadata": {
        "id": "Z9jKVxE06BC1"
      }
    },
    {
      "cell_type": "markdown",
      "source": [
        "#### 9. Part of speech tagging"
      ],
      "metadata": {
        "id": "k5UmGsbsOxih"
      }
    },
    {
      "cell_type": "code",
      "source": [
        "# POS Taging"
      ],
      "metadata": {
        "id": "btT3ZJBAO6Ik"
      },
      "execution_count": null,
      "outputs": []
    },
    {
      "cell_type": "markdown",
      "source": [
        "#### 10. Text Vectorization"
      ],
      "metadata": {
        "id": "T0VqWOYE6DLQ"
      }
    },
    {
      "cell_type": "code",
      "source": [
        "# Vectorizing Text"
      ],
      "metadata": {
        "id": "yBRtdhth6JDE"
      },
      "execution_count": null,
      "outputs": []
    },
    {
      "cell_type": "markdown",
      "source": [
        "##### Which text vectorization technique have you used and why?"
      ],
      "metadata": {
        "id": "qBMux9mC6MCf"
      }
    },
    {
      "cell_type": "markdown",
      "source": [
        "Answer Here."
      ],
      "metadata": {
        "id": "su2EnbCh6UKQ"
      }
    },
    {
      "cell_type": "markdown",
      "source": [
        "### 4. Feature Manipulation & Selection"
      ],
      "metadata": {
        "id": "-oLEiFgy-5Pf"
      }
    },
    {
      "cell_type": "markdown",
      "source": [
        "#### 1. Feature Manipulation"
      ],
      "metadata": {
        "id": "C74aWNz2AliB"
      }
    },
    {
      "cell_type": "code",
      "source": [
        "# Manipulate Features to minimize feature correlation and create new features"
      ],
      "metadata": {
        "id": "h1qC4yhBApWC"
      },
      "execution_count": null,
      "outputs": []
    },
    {
      "cell_type": "markdown",
      "source": [
        "#### 2. Feature Selection"
      ],
      "metadata": {
        "id": "2DejudWSA-a0"
      }
    },
    {
      "cell_type": "code",
      "source": [
        "# Select your features wisely to avoid overfitting"
      ],
      "metadata": {
        "id": "YLhe8UmaBCEE"
      },
      "execution_count": null,
      "outputs": []
    },
    {
      "cell_type": "markdown",
      "source": [
        "##### What all feature selection methods have you used  and why?"
      ],
      "metadata": {
        "id": "pEMng2IbBLp7"
      }
    },
    {
      "cell_type": "markdown",
      "source": [
        "Answer Here."
      ],
      "metadata": {
        "id": "rb2Lh6Z8BgGs"
      }
    },
    {
      "cell_type": "markdown",
      "source": [
        "##### Which all features you found important and why?"
      ],
      "metadata": {
        "id": "rAdphbQ9Bhjc"
      }
    },
    {
      "cell_type": "markdown",
      "source": [
        "Answer Here."
      ],
      "metadata": {
        "id": "fGgaEstsBnaf"
      }
    },
    {
      "cell_type": "markdown",
      "source": [
        "### 5. Data Transformation"
      ],
      "metadata": {
        "id": "TNVZ9zx19K6k"
      }
    },
    {
      "cell_type": "markdown",
      "source": [
        "#### Do you think that your data needs to be transformed? If yes, which transformation have you used. Explain Why?"
      ],
      "metadata": {
        "id": "nqoHp30x9hH9"
      }
    },
    {
      "cell_type": "code",
      "source": [
        "# Transform Your data"
      ],
      "metadata": {
        "id": "I6quWQ1T9rtH"
      },
      "execution_count": null,
      "outputs": []
    },
    {
      "cell_type": "markdown",
      "source": [
        "### 6. Data Scaling"
      ],
      "metadata": {
        "id": "rMDnDkt2B6du"
      }
    },
    {
      "cell_type": "code",
      "source": [
        "# Scaling your data"
      ],
      "metadata": {
        "id": "dL9LWpySC6x_"
      },
      "execution_count": null,
      "outputs": []
    },
    {
      "cell_type": "markdown",
      "source": [
        "##### Which method have you used to scale you data and why?"
      ],
      "metadata": {
        "id": "yiiVWRdJDDil"
      }
    },
    {
      "cell_type": "markdown",
      "source": [
        "### 7. Dimesionality Reduction"
      ],
      "metadata": {
        "id": "1UUpS68QDMuG"
      }
    },
    {
      "cell_type": "markdown",
      "source": [
        "##### Do you think that dimensionality reduction is needed? Explain Why?"
      ],
      "metadata": {
        "id": "kexQrXU-DjzY"
      }
    },
    {
      "cell_type": "markdown",
      "source": [
        "Answer Here."
      ],
      "metadata": {
        "id": "GGRlBsSGDtTQ"
      }
    },
    {
      "cell_type": "code",
      "source": [
        "# DImensionality Reduction (If needed)"
      ],
      "metadata": {
        "id": "kQfvxBBHDvCa"
      },
      "execution_count": null,
      "outputs": []
    },
    {
      "cell_type": "markdown",
      "source": [
        "##### Which dimensionality reduction technique have you used and why? (If dimensionality reduction done on dataset.)"
      ],
      "metadata": {
        "id": "T5CmagL3EC8N"
      }
    },
    {
      "cell_type": "markdown",
      "source": [
        "Answer Here."
      ],
      "metadata": {
        "id": "ZKr75IDuEM7t"
      }
    },
    {
      "cell_type": "markdown",
      "source": [
        "### 8. Data Splitting"
      ],
      "metadata": {
        "id": "BhH2vgX9EjGr"
      }
    },
    {
      "cell_type": "code",
      "source": [
        "# Split your data to train and test. Choose Splitting ratio wisely."
      ],
      "metadata": {
        "id": "0CTyd2UwEyNM"
      },
      "execution_count": null,
      "outputs": []
    },
    {
      "cell_type": "markdown",
      "source": [
        "##### What data splitting ratio have you used and why? "
      ],
      "metadata": {
        "id": "qjKvONjwE8ra"
      }
    },
    {
      "cell_type": "markdown",
      "source": [
        "Answer Here."
      ],
      "metadata": {
        "id": "Y2lJ8cobFDb_"
      }
    },
    {
      "cell_type": "markdown",
      "source": [
        "### 9. Handling Imbalanced Dataset"
      ],
      "metadata": {
        "id": "P1XJ9OREExlT"
      }
    },
    {
      "cell_type": "markdown",
      "source": [
        "##### Do you think the dataset is imbalanced? Explain Why."
      ],
      "metadata": {
        "id": "VFOzZv6IFROw"
      }
    },
    {
      "cell_type": "markdown",
      "source": [
        "Answer Here."
      ],
      "metadata": {
        "id": "GeKDIv7pFgcC"
      }
    },
    {
      "cell_type": "code",
      "source": [
        "# Handling Imbalanced Dataset (If needed)"
      ],
      "metadata": {
        "id": "nQsRhhZLFiDs"
      },
      "execution_count": null,
      "outputs": []
    },
    {
      "cell_type": "markdown",
      "source": [
        "##### What technique did you use to handle the imbalance dataset and why? (If needed to be balanced)"
      ],
      "metadata": {
        "id": "TIqpNgepFxVj"
      }
    },
    {
      "cell_type": "markdown",
      "source": [
        "Answer Here."
      ],
      "metadata": {
        "id": "qbet1HwdGDTz"
      }
    },
    {
      "cell_type": "markdown",
      "source": [
        "## ***7. ML Model Implementation***"
      ],
      "metadata": {
        "id": "VfCC591jGiD4"
      }
    },
    {
      "cell_type": "markdown",
      "source": [
        "### ML Model - 1"
      ],
      "metadata": {
        "id": "OB4l2ZhMeS1U"
      }
    },
    {
      "cell_type": "code",
      "source": [
        "# ML Model - 1 Implementation\n",
        "\n",
        "# Fit the Algorithm\n",
        "\n",
        "# Predict on the model"
      ],
      "metadata": {
        "id": "7ebyywQieS1U"
      },
      "execution_count": null,
      "outputs": []
    },
    {
      "cell_type": "markdown",
      "source": [
        "#### 1. Explain the ML Model used and it's performance using Evaluation metric Score Chart."
      ],
      "metadata": {
        "id": "ArJBuiUVfxKd"
      }
    },
    {
      "cell_type": "code",
      "source": [
        "# Visualizing evaluation Metric Score chart"
      ],
      "metadata": {
        "id": "rqD5ZohzfxKe"
      },
      "execution_count": null,
      "outputs": []
    },
    {
      "cell_type": "markdown",
      "source": [
        "#### 2. Cross- Validation & Hyperparameter Tuning"
      ],
      "metadata": {
        "id": "4qY1EAkEfxKe"
      }
    },
    {
      "cell_type": "code",
      "source": [
        "# ML Model - 1 Implementation with hyperparameter optimization techniques (i.e., GridSearch CV, RandomSearch CV, Bayesian Optimization etc.)\n",
        "\n",
        "# Fit the Algorithm\n",
        "\n",
        "# Predict on the model"
      ],
      "metadata": {
        "id": "Dy61ujd6fxKe"
      },
      "execution_count": null,
      "outputs": []
    },
    {
      "cell_type": "markdown",
      "source": [
        "##### Which hyperparameter optimization technique have you used and why?"
      ],
      "metadata": {
        "id": "PiV4Ypx8fxKe"
      }
    },
    {
      "cell_type": "markdown",
      "source": [
        "Answer Here."
      ],
      "metadata": {
        "id": "negyGRa7fxKf"
      }
    },
    {
      "cell_type": "markdown",
      "source": [
        "##### Have you seen any improvement? Note down the improvement with updates Evaluation metric Score Chart."
      ],
      "metadata": {
        "id": "TfvqoZmBfxKf"
      }
    },
    {
      "cell_type": "markdown",
      "source": [
        "Answer Here."
      ],
      "metadata": {
        "id": "OaLui8CcfxKf"
      }
    },
    {
      "cell_type": "markdown",
      "source": [
        "### ML Model - 2"
      ],
      "metadata": {
        "id": "dJ2tPlVmpsJ0"
      }
    },
    {
      "cell_type": "markdown",
      "source": [
        "#### 1. Explain the ML Model used and it's performance using Evaluation metric Score Chart."
      ],
      "metadata": {
        "id": "JWYfwnehpsJ1"
      }
    },
    {
      "cell_type": "code",
      "source": [
        "# Visualizing evaluation Metric Score chart"
      ],
      "metadata": {
        "id": "yEl-hgQWpsJ1"
      },
      "execution_count": null,
      "outputs": []
    },
    {
      "cell_type": "markdown",
      "source": [
        "#### 2. Cross- Validation & Hyperparameter Tuning"
      ],
      "metadata": {
        "id": "-jK_YjpMpsJ2"
      }
    },
    {
      "cell_type": "code",
      "source": [
        "# ML Model - 1 Implementation with hyperparameter optimization techniques (i.e., GridSearch CV, RandomSearch CV, Bayesian Optimization etc.)\n",
        "\n",
        "# Fit the Algorithm\n",
        "\n",
        "# Predict on the model"
      ],
      "metadata": {
        "id": "Dn0EOfS6psJ2"
      },
      "execution_count": null,
      "outputs": []
    },
    {
      "cell_type": "markdown",
      "source": [
        "##### Which hyperparameter optimization technique have you used and why?"
      ],
      "metadata": {
        "id": "HAih1iBOpsJ2"
      }
    },
    {
      "cell_type": "markdown",
      "source": [
        "Answer Here."
      ],
      "metadata": {
        "id": "9kBgjYcdpsJ2"
      }
    },
    {
      "cell_type": "markdown",
      "source": [
        "##### Have you seen any improvement? Note down the improvement with updates Evaluation metric Score Chart."
      ],
      "metadata": {
        "id": "zVGeBEFhpsJ2"
      }
    },
    {
      "cell_type": "markdown",
      "source": [
        "Answer Here."
      ],
      "metadata": {
        "id": "74yRdG6UpsJ3"
      }
    },
    {
      "cell_type": "markdown",
      "source": [
        "#### 3. Explain each evaluation metric's indication towards business and the business impact pf the ML model used."
      ],
      "metadata": {
        "id": "bmKjuQ-FpsJ3"
      }
    },
    {
      "cell_type": "markdown",
      "source": [
        "Answer Here."
      ],
      "metadata": {
        "id": "BDKtOrBQpsJ3"
      }
    },
    {
      "cell_type": "markdown",
      "source": [
        "### ML Model - 3"
      ],
      "metadata": {
        "id": "Fze-IPXLpx6K"
      }
    },
    {
      "cell_type": "code",
      "source": [
        "# ML Model - 3 Implementation\n",
        "\n",
        "# Fit the Algorithm\n",
        "\n",
        "# Predict on the model"
      ],
      "metadata": {
        "id": "FFrSXAtrpx6M"
      },
      "execution_count": null,
      "outputs": []
    },
    {
      "cell_type": "markdown",
      "source": [
        "#### 1. Explain the ML Model used and it's performance using Evaluation metric Score Chart."
      ],
      "metadata": {
        "id": "7AN1z2sKpx6M"
      }
    },
    {
      "cell_type": "code",
      "source": [
        "# Visualizing evaluation Metric Score chart"
      ],
      "metadata": {
        "id": "xIY4lxxGpx6M"
      },
      "execution_count": null,
      "outputs": []
    },
    {
      "cell_type": "markdown",
      "source": [
        "#### 2. Cross- Validation & Hyperparameter Tuning"
      ],
      "metadata": {
        "id": "9PIHJqyupx6M"
      }
    },
    {
      "cell_type": "code",
      "source": [
        "# ML Model - 3 Implementation with hyperparameter optimization techniques (i.e., GridSearch CV, RandomSearch CV, Bayesian Optimization etc.)\n",
        "\n",
        "# Fit the Algorithm\n",
        "\n",
        "# Predict on the model"
      ],
      "metadata": {
        "id": "eSVXuaSKpx6M"
      },
      "execution_count": null,
      "outputs": []
    },
    {
      "cell_type": "markdown",
      "source": [
        "##### Which hyperparameter optimization technique have you used and why?"
      ],
      "metadata": {
        "id": "_-qAgymDpx6N"
      }
    },
    {
      "cell_type": "markdown",
      "source": [
        "Answer Here."
      ],
      "metadata": {
        "id": "lQMffxkwpx6N"
      }
    },
    {
      "cell_type": "markdown",
      "source": [
        "##### Have you seen any improvement? Note down the improvement with updates Evaluation metric Score Chart."
      ],
      "metadata": {
        "id": "Z-hykwinpx6N"
      }
    },
    {
      "cell_type": "markdown",
      "source": [
        "Answer Here."
      ],
      "metadata": {
        "id": "MzVzZC6opx6N"
      }
    },
    {
      "cell_type": "markdown",
      "source": [
        "### 1. Which Evaluation metrics did you consider for a positive business impact and why?"
      ],
      "metadata": {
        "id": "h_CCil-SKHpo"
      }
    },
    {
      "cell_type": "markdown",
      "source": [
        "Answer Here."
      ],
      "metadata": {
        "id": "jHVz9hHDKFms"
      }
    },
    {
      "cell_type": "markdown",
      "source": [
        "### 2. Which ML model did you choose from the above created models as your final prediction model and why?"
      ],
      "metadata": {
        "id": "cBFFvTBNJzUa"
      }
    },
    {
      "cell_type": "markdown",
      "source": [
        "Answer Here."
      ],
      "metadata": {
        "id": "6ksF5Q1LKTVm"
      }
    },
    {
      "cell_type": "markdown",
      "source": [
        "### 3. Explain the model which you have used and the feature importance using any model explainability tool?"
      ],
      "metadata": {
        "id": "HvGl1hHyA_VK"
      }
    },
    {
      "cell_type": "markdown",
      "source": [
        "Answer Here."
      ],
      "metadata": {
        "id": "YnvVTiIxBL-C"
      }
    },
    {
      "cell_type": "markdown",
      "source": [
        "## ***8.*** ***Future Work (Optional)***"
      ],
      "metadata": {
        "id": "EyNgTHvd2WFk"
      }
    },
    {
      "cell_type": "markdown",
      "source": [
        "### 1. Save the best performing ml model in a pickle file or joblib file format for deployment process.\n"
      ],
      "metadata": {
        "id": "KH5McJBi2d8v"
      }
    },
    {
      "cell_type": "code",
      "source": [
        "# Save the File"
      ],
      "metadata": {
        "id": "bQIANRl32f4J"
      },
      "execution_count": null,
      "outputs": []
    },
    {
      "cell_type": "markdown",
      "source": [
        "### 2. Again Load the saved model file and try to predict unseen data for a sanity check.\n"
      ],
      "metadata": {
        "id": "iW_Lq9qf2h6X"
      }
    },
    {
      "cell_type": "code",
      "source": [
        "# Load the File and predict unseen data."
      ],
      "metadata": {
        "id": "oEXk9ydD2nVC"
      },
      "execution_count": null,
      "outputs": []
    },
    {
      "cell_type": "markdown",
      "source": [
        "### ***Congrats! Your model is successfully created and ready for deployment on a live server for a real user interaction !!!***"
      ],
      "metadata": {
        "id": "-Kee-DAl2viO"
      }
    },
    {
      "cell_type": "markdown",
      "source": [
        "# **Conclusion**"
      ],
      "metadata": {
        "id": "gCX9965dhzqZ"
      }
    },
    {
      "cell_type": "markdown",
      "source": [
        "Write the conclusion here."
      ],
      "metadata": {
        "id": "Fjb1IsQkh3yE"
      }
    },
    {
      "cell_type": "markdown",
      "source": [
        "### ***Hurrah! You have successfully completed your Machine Learning Capstone Project !!!***"
      ],
      "metadata": {
        "id": "gIfDvo9L0UH2"
      }
    }
  ]
}